{
 "cells": [
  {
   "cell_type": "code",
   "execution_count": 1,
   "metadata": {
    "ExecuteTime": {
     "end_time": "2024-04-11T02:19:36.235528100Z",
     "start_time": "2024-04-11T02:19:33.736539700Z"
    }
   },
   "outputs": [],
   "source": [
    "import soundfile as sf\n",
    "import os\n",
    "import numpy as np\n",
    "import librosa\n",
    "import torch\n",
    "from config import fft_num, win_shift\n",
    "base_path = r\"D:\\\\work\\\\speechEnhancement\\\\datasets\\\\voicebank_demand\"\n",
    "audio_name = \"p232_001.wav\"\n",
    "noisy_audio_path = os.path.join(base_path, \"noisy_testset_wav\", audio_name)\n",
    "\n",
    "feat_wav, _ = sf.read(noisy_audio_path)  # (27861,)\n",
    "c = np.sqrt(len(feat_wav) / np.sum((feat_wav ** 2.0))) \n",
    "feat_wav = feat_wav * c         # (27861,)\n",
    "feat_x = librosa.stft(feat_wav, n_fft=fft_num, hop_length=win_shift, window='hann').T  # (175, 161)  (seq_len, freq)\n",
    "\n",
    "#compress\n",
    "feat_x, phase_x = np.abs(feat_x)**0.5, np.angle(feat_x)\n",
    "\n",
    "feat_x = torch.FloatTensor(feat_x)\n",
    "phase_x = torch.FloatTensor(phase_x)\n",
    "feat_x = torch.stack((feat_x * torch.cos(phase_x), feat_x * torch.sin(phase_x)), dim=0) # (2, 175, 161) "
   ]
  },
  {
   "cell_type": "code",
   "execution_count": 2,
   "metadata": {
    "ExecuteTime": {
     "end_time": "2024-04-11T02:19:36.309213Z",
     "start_time": "2024-04-11T02:19:36.245929100Z"
    }
   },
   "outputs": [
    {
     "name": "stdout",
     "output_type": "stream",
     "text": [
      "torch.Size([2, 175, 161])\n"
     ]
    }
   ],
   "source": [
    "import torchaudio\n",
    "from config import win_size\n",
    "feat_wav, _ = torchaudio.load(noisy_audio_path)\n",
    "feat_wav = feat_wav.squeeze(0)\n",
    "c = torch.sqrt(feat_wav.shape[0] / torch.sum((feat_wav ** 2.0)))\n",
    "feat_wav = feat_wav * c\n",
    "\n",
    "feat_x = torch.stft(feat_wav, n_fft=fft_num, hop_length=win_shift, win_length=win_size, window=torch.hann_window(win_size), return_complex=True).T\n",
    "feat_x, phase_x = torch.sqrt(torch.abs(feat_x)), torch.angle(feat_x)\n",
    "feat_x = torch.stack((feat_x * torch.cos(phase_x), feat_x * torch.sin(phase_x)), dim=0)\n",
    "print(feat_x.shape)"
   ]
  },
  {
   "cell_type": "code",
   "execution_count": 3,
   "metadata": {
    "ExecuteTime": {
     "end_time": "2024-04-11T02:19:47.969494700Z",
     "start_time": "2024-04-11T02:19:47.953842600Z"
    }
   },
   "outputs": [
    {
     "name": "stdout",
     "output_type": "stream",
     "text": [
      "tensor([[[0.0778, 0.6491, 0.9342],\n",
      "         [0.6439, 0.5502, 0.3870],\n",
      "         [0.7725, 0.9569, 0.0739],\n",
      "         [0.8421, 0.7535, 0.8938]],\n",
      "\n",
      "        [[0.1509, 0.5552, 0.8699],\n",
      "         [0.0474, 0.9863, 0.3719],\n",
      "         [0.5595, 0.6657, 0.0784],\n",
      "         [0.3618, 0.5430, 0.6348]]])\n"
     ]
    },
    {
     "data": {
      "text/plain": "[[[0.07783550024032593, 0.6490828394889832, 0.9342090487480164],\n  [0.6438584923744202, 0.5501828789710999, 0.3869602680206299],\n  [0.7724840044975281, 0.956874668598175, 0.0738721489906311],\n  [0.8420925736427307, 0.7535222172737122, 0.8937874436378479]],\n [[0.15085262060165405, 0.555207371711731, 0.869949460029602],\n  [0.04738122224807739, 0.9863272905349731, 0.37191063165664673],\n  [0.5594611167907715, 0.6657001972198486, 0.07840949296951294],\n  [0.3618142604827881, 0.5430347323417664, 0.6347635984420776]]]"
     },
     "execution_count": 3,
     "metadata": {},
     "output_type": "execute_result"
    }
   ],
   "source": [
    "from einops import rearrange\n",
    "a = torch.rand([2, 4, 3])\n",
    "print(a)\n",
    "a.tolist()"
   ]
  },
  {
   "cell_type": "code",
   "execution_count": 4,
   "metadata": {
    "ExecuteTime": {
     "end_time": "2024-04-11T02:19:51.833970600Z",
     "start_time": "2024-04-11T02:19:51.818345700Z"
    }
   },
   "outputs": [
    {
     "name": "stdout",
     "output_type": "stream",
     "text": [
      "[tensor([[[0.8250, 0.6453, 0.2622],\n",
      "         [0.6777, 0.9875, 0.7710]],\n",
      "\n",
      "        [[0.9462, 0.9748, 0.6558],\n",
      "         [0.6576, 0.6944, 0.7657]]]), tensor([[[0.8245, 0.3624, 0.3872],\n",
      "         [0.0555, 0.7249, 0.3516],\n",
      "         [0.8215, 0.1983, 0.1448]],\n",
      "\n",
      "        [[0.2362, 0.0973, 0.5680],\n",
      "         [0.6008, 0.7743, 0.7779],\n",
      "         [0.8992, 0.9939, 0.8197]]]), tensor([[[0.5122, 0.5664, 0.1788],\n",
      "         [0.0824, 0.9181, 0.1125],\n",
      "         [0.5145, 0.6901, 0.9491],\n",
      "         [0.8213, 0.9827, 0.2220]],\n",
      "\n",
      "        [[0.7499, 0.0512, 0.9023],\n",
      "         [0.0473, 0.0482, 0.1076],\n",
      "         [0.6532, 0.0838, 0.4200],\n",
      "         [0.3294, 0.3424, 0.6944]]])]\n"
     ]
    }
   ],
   "source": [
    "seq_len = [2,3,4]\n",
    "a = [torch.rand([2, q, 3]) for q in seq_len]\n",
    "print(a)"
   ]
  },
  {
   "cell_type": "code",
   "execution_count": 10,
   "metadata": {
    "ExecuteTime": {
     "end_time": "2024-04-11T02:26:01.545583900Z",
     "start_time": "2024-04-11T02:26:01.482909100Z"
    }
   },
   "outputs": [
    {
     "name": "stdout",
     "output_type": "stream",
     "text": [
      "torch.Size([3, 4, 6])\n",
      "torch.Size([3, 2, 4, 3])\n",
      "tensor([[[[0.8250, 0.6453, 0.2622],\n",
      "          [0.6777, 0.9875, 0.7710],\n",
      "          [0.0000, 0.0000, 0.0000],\n",
      "          [0.0000, 0.0000, 0.0000]],\n",
      "\n",
      "         [[0.9462, 0.9748, 0.6558],\n",
      "          [0.6576, 0.6944, 0.7657],\n",
      "          [0.0000, 0.0000, 0.0000],\n",
      "          [0.0000, 0.0000, 0.0000]]],\n",
      "\n",
      "\n",
      "        [[[0.8245, 0.3624, 0.3872],\n",
      "          [0.0555, 0.7249, 0.3516],\n",
      "          [0.8215, 0.1983, 0.1448],\n",
      "          [0.0000, 0.0000, 0.0000]],\n",
      "\n",
      "         [[0.2362, 0.0973, 0.5680],\n",
      "          [0.6008, 0.7743, 0.7779],\n",
      "          [0.8992, 0.9939, 0.8197],\n",
      "          [0.0000, 0.0000, 0.0000]]],\n",
      "\n",
      "\n",
      "        [[[0.5122, 0.5664, 0.1788],\n",
      "          [0.0824, 0.9181, 0.1125],\n",
      "          [0.5145, 0.6901, 0.9491],\n",
      "          [0.8213, 0.9827, 0.2220]],\n",
      "\n",
      "         [[0.7499, 0.0512, 0.9023],\n",
      "          [0.0473, 0.0482, 0.1076],\n",
      "          [0.6532, 0.0838, 0.4200],\n",
      "          [0.3294, 0.3424, 0.6944]]]])\n"
     ]
    }
   ],
   "source": [
    "b = [rearrange(a_, \"N L C -> L (N C)\") for a_ in a]\n",
    "from torch.nn.utils.rnn import pad_sequence\n",
    "c = pad_sequence(b, batch_first=True)\n",
    "print(c.shape)\n",
    "d = rearrange(c, \"B L (N C) -> B N L C\", N=2)\n",
    "print(d.shape)\n",
    "print(d)"
   ]
  },
  {
   "cell_type": "code",
   "execution_count": 8,
   "outputs": [
    {
     "data": {
      "text/plain": "[tensor([[True, True, True, True, True, True],\n         [True, True, True, True, True, True]]),\n tensor([[True, True, True, True, True, True],\n         [True, True, True, True, True, True],\n         [True, True, True, True, True, True]]),\n tensor([[True, True, True, True, True, True],\n         [True, True, True, True, True, True],\n         [True, True, True, True, True, True],\n         [True, True, True, True, True, True]])]"
     },
     "execution_count": 8,
     "metadata": {},
     "output_type": "execute_result"
    }
   ],
   "source": [
    "b1 = []\n",
    "for a_ in a:\n",
    "    b1.append(torch.cat([a_[0], a_[1]], dim=1))\n",
    "\n",
    "[b1[i] == b[i] for i in range(3)]"
   ],
   "metadata": {
    "collapsed": false,
    "ExecuteTime": {
     "end_time": "2024-04-11T02:22:29.472483Z",
     "start_time": "2024-04-11T02:22:29.414489400Z"
    }
   }
  },
  {
   "cell_type": "code",
   "execution_count": null,
   "outputs": [],
   "source": [],
   "metadata": {
    "collapsed": false
   }
  }
 ],
 "metadata": {
  "kernelspec": {
   "display_name": "Python 3",
   "language": "python",
   "name": "python3"
  },
  "language_info": {
   "codemirror_mode": {
    "name": "ipython",
    "version": 3
   },
   "file_extension": ".py",
   "mimetype": "text/x-python",
   "name": "python",
   "nbconvert_exporter": "python",
   "pygments_lexer": "ipython3",
   "version": "3.9.13"
  }
 },
 "nbformat": 4,
 "nbformat_minor": 2
}
