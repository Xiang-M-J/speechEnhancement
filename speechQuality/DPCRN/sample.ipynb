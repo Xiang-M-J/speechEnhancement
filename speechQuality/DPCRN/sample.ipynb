{
 "cells": [
  {
   "cell_type": "code",
   "execution_count": 1,
   "metadata": {},
   "outputs": [],
   "source": [
    "import soundfile as sf\n",
    "import os\n",
    "import numpy as np\n",
    "import librosa\n",
    "import torch\n",
    "from config import fft_num, win_shift\n",
    "base_path = r\"D:\\\\work\\\\speechEnhancement\\\\datasets\\\\voicebank_demand\"\n",
    "audio_name = \"p232_001.wav\"\n",
    "noisy_audio_path = os.path.join(base_path, \"noisy_testset_wav\", audio_name)\n",
    "\n",
    "feat_wav, _ = sf.read(noisy_audio_path)  # (27861,)\n",
    "c = np.sqrt(len(feat_wav) / np.sum((feat_wav ** 2.0))) \n",
    "feat_wav = feat_wav * c         # (27861,)\n",
    "feat_x = librosa.stft(feat_wav, n_fft=fft_num, hop_length=win_shift, window='hann').T  # (175, 161)  (seq_len, freq)\n",
    "\n",
    "#compress\n",
    "feat_x, phase_x = np.abs(feat_x)**0.5, np.angle(feat_x)\n",
    "\n",
    "feat_x = torch.FloatTensor(feat_x)\n",
    "phase_x = torch.FloatTensor(phase_x)\n",
    "feat_x = torch.stack((feat_x * torch.cos(phase_x), feat_x * torch.sin(phase_x)), dim=0) # (2, 175, 161) "
   ]
  },
  {
   "cell_type": "code",
   "execution_count": 11,
   "metadata": {},
   "outputs": [
    {
     "name": "stdout",
     "output_type": "stream",
     "text": [
      "torch.Size([2, 175, 161])\n"
     ]
    }
   ],
   "source": [
    "import torchaudio\n",
    "from config import win_size\n",
    "feat_wav, _ = torchaudio.load(noisy_audio_path)\n",
    "feat_wav = feat_wav.squeeze(0)\n",
    "c = torch.sqrt(feat_wav.shape[0] / torch.sum((feat_wav ** 2.0)))\n",
    "feat_wav = feat_wav * c\n",
    "\n",
    "feat_x = torch.stft(feat_wav, n_fft=fft_num, hop_length=win_shift, win_length=win_size, window=torch.hann_window(win_size), return_complex=True).T\n",
    "feat_x, phase_x = torch.sqrt(torch.abs(feat_x)), torch.angle(feat_x)\n",
    "feat_x = torch.stack((feat_x * torch.cos(phase_x), feat_x * torch.sin(phase_x)), dim=0)\n",
    "print(feat_x.shape)"
   ]
  },
  {
   "cell_type": "code",
   "execution_count": 3,
   "metadata": {},
   "outputs": [
    {
     "name": "stdout",
     "output_type": "stream",
     "text": [
      "tensor([[[0.5822, 0.8967, 0.9372],\n",
      "         [0.5025, 0.4827, 0.5132],\n",
      "         [0.7758, 0.4996, 0.1727],\n",
      "         [0.9817, 0.6477, 0.0213]],\n",
      "\n",
      "        [[0.4846, 0.4733, 0.2612],\n",
      "         [0.8286, 0.2368, 0.6475],\n",
      "         [0.4967, 0.0924, 0.8803],\n",
      "         [0.0429, 0.5348, 0.5149]]])\n"
     ]
    },
    {
     "data": {
      "text/plain": [
       "[[[0.5822160840034485, 0.8966960310935974, 0.9372186064720154],\n",
       "  [0.5025443434715271, 0.482688307762146, 0.5132083296775818],\n",
       "  [0.7757612466812134, 0.49961501359939575, 0.17272770404815674],\n",
       "  [0.9816822409629822, 0.6477407813072205, 0.021299123764038086]],\n",
       " [[0.4846345782279968, 0.4733104705810547, 0.2611798644065857],\n",
       "  [0.8286473155021667, 0.23679548501968384, 0.6475166082382202],\n",
       "  [0.4967333674430847, 0.09240090847015381, 0.8803408741950989],\n",
       "  [0.04286831617355347, 0.5347602963447571, 0.5148664116859436]]]"
      ]
     },
     "execution_count": 3,
     "metadata": {},
     "output_type": "execute_result"
    }
   ],
   "source": [
    "from einops import rearrange\n",
    "a = torch.rand([2, 4, 3])\n",
    "print(a)\n",
    "a.tolist()"
   ]
  },
  {
   "cell_type": "code",
   "execution_count": 5,
   "metadata": {},
   "outputs": [
    {
     "name": "stdout",
     "output_type": "stream",
     "text": [
      "[tensor([[[0.6514, 0.8858, 0.0766],\n",
      "         [0.6374, 0.9574, 0.2171]],\n",
      "\n",
      "        [[0.2564, 0.4451, 0.4436],\n",
      "         [0.4918, 0.9460, 0.5537]]]), tensor([[[0.4676, 0.9347, 0.1520],\n",
      "         [0.7374, 0.6358, 0.5229],\n",
      "         [0.7143, 0.8532, 0.0647]],\n",
      "\n",
      "        [[0.6113, 0.9465, 0.5271],\n",
      "         [0.4983, 0.9589, 0.7804],\n",
      "         [0.0495, 0.6888, 0.7786]]]), tensor([[[0.6230, 0.6114, 0.9438],\n",
      "         [0.1533, 0.8112, 0.3777],\n",
      "         [0.7447, 0.7943, 0.1035],\n",
      "         [0.7700, 0.0407, 0.2573]],\n",
      "\n",
      "        [[0.8783, 0.6899, 0.7823],\n",
      "         [0.4480, 0.5782, 0.8545],\n",
      "         [0.3409, 0.1223, 0.5808],\n",
      "         [0.4136, 0.1618, 0.3451]]])]\n"
     ]
    }
   ],
   "source": [
    "seq_len = [2,3,4]\n",
    "a = [torch.rand([2, q, 3]) for q in seq_len]\n",
    "print(a)"
   ]
  },
  {
   "cell_type": "code",
   "execution_count": 7,
   "metadata": {},
   "outputs": [],
   "source": [
    "b1 = []\n",
    "for a_ in a:\n",
    "    b1.append(torch.cat([a_[0], a_[1]], dim=1))\n"
   ]
  },
  {
   "cell_type": "code",
   "execution_count": null,
   "metadata": {},
   "outputs": [],
   "source": []
  },
  {
   "cell_type": "code",
   "execution_count": 10,
   "metadata": {},
   "outputs": [
    {
     "name": "stdout",
     "output_type": "stream",
     "text": [
      "torch.Size([3, 4, 6])\n",
      "torch.Size([3, 2, 4, 3])\n",
      "tensor([[[[0.6514, 0.8858, 0.0766],\n",
      "          [0.6374, 0.9574, 0.2171],\n",
      "          [0.0000, 0.0000, 0.0000],\n",
      "          [0.0000, 0.0000, 0.0000]],\n",
      "\n",
      "         [[0.2564, 0.4451, 0.4436],\n",
      "          [0.4918, 0.9460, 0.5537],\n",
      "          [0.0000, 0.0000, 0.0000],\n",
      "          [0.0000, 0.0000, 0.0000]]],\n",
      "\n",
      "\n",
      "        [[[0.4676, 0.9347, 0.1520],\n",
      "          [0.7374, 0.6358, 0.5229],\n",
      "          [0.7143, 0.8532, 0.0647],\n",
      "          [0.0000, 0.0000, 0.0000]],\n",
      "\n",
      "         [[0.6113, 0.9465, 0.5271],\n",
      "          [0.4983, 0.9589, 0.7804],\n",
      "          [0.0495, 0.6888, 0.7786],\n",
      "          [0.0000, 0.0000, 0.0000]]],\n",
      "\n",
      "\n",
      "        [[[0.6230, 0.6114, 0.9438],\n",
      "          [0.1533, 0.8112, 0.3777],\n",
      "          [0.7447, 0.7943, 0.1035],\n",
      "          [0.7700, 0.0407, 0.2573]],\n",
      "\n",
      "         [[0.8783, 0.6899, 0.7823],\n",
      "          [0.4480, 0.5782, 0.8545],\n",
      "          [0.3409, 0.1223, 0.5808],\n",
      "          [0.4136, 0.1618, 0.3451]]]])\n"
     ]
    }
   ],
   "source": [
    "b = [rearrange(a_, \"N L C -> L (N C)\") for a_ in a]\n",
    "from torch.nn.utils.rnn import pad_sequence\n",
    "c = pad_sequence(b, batch_first=True)\n",
    "print(c.shape)\n",
    "d = rearrange(c, \"B L (N C) -> B N L C\", N=2)\n",
    "print(d.shape)\n",
    "print(d)"
   ]
  },
  {
   "cell_type": "code",
   "execution_count": 9,
   "metadata": {},
   "outputs": [
    {
     "ename": "RuntimeError",
     "evalue": "Boolean value of Tensor with more than one value is ambiguous",
     "output_type": "error",
     "traceback": [
      "\u001b[1;31m---------------------------------------------------------------------------\u001b[0m",
      "\u001b[1;31mRuntimeError\u001b[0m                              Traceback (most recent call last)",
      "Cell \u001b[1;32mIn[9], line 1\u001b[0m\n\u001b[1;32m----> 1\u001b[0m \u001b[38;5;28mprint\u001b[39m(\u001b[43mb1\u001b[49m\u001b[38;5;241;43m==\u001b[39;49m\u001b[43mb\u001b[49m)\n",
      "\u001b[1;31mRuntimeError\u001b[0m: Boolean value of Tensor with more than one value is ambiguous"
     ]
    }
   ],
   "source": []
  }
 ],
 "metadata": {
  "kernelspec": {
   "display_name": "Python 3",
   "language": "python",
   "name": "python3"
  },
  "language_info": {
   "codemirror_mode": {
    "name": "ipython",
    "version": 3
   },
   "file_extension": ".py",
   "mimetype": "text/x-python",
   "name": "python",
   "nbconvert_exporter": "python",
   "pygments_lexer": "ipython3",
   "version": "3.9.13"
  }
 },
 "nbformat": 4,
 "nbformat_minor": 2
}
