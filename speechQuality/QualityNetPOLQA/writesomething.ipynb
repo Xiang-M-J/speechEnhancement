{
 "cells": [
  {
   "cell_type": "code",
   "id": "initial_id",
   "metadata": {
    "collapsed": true,
    "ExecuteTime": {
     "end_time": "2024-05-11T04:53:36.362558Z",
     "start_time": "2024-05-11T04:53:36.096555Z"
    }
   },
   "source": [
    "import torch\n",
    "from models import Cnn\n",
    "from tensorboardX import SummaryWriter\n",
    "\n",
    "writer = SummaryWriter('temp1')\n",
    "model = Cnn()\n",
    "\n",
    "writer.add_graph(model, input_to_model=torch.randn(4, 512, 257))\n"
   ],
   "execution_count": 2,
   "outputs": []
  },
  {
   "metadata": {
    "ExecuteTime": {
     "end_time": "2024-05-11T04:54:33.194555Z",
     "start_time": "2024-05-11T04:54:33.180557Z"
    }
   },
   "cell_type": "code",
   "source": "writer.close()",
   "id": "5dfc3ad72634338b",
   "execution_count": 3,
   "outputs": []
  },
  {
   "metadata": {},
   "cell_type": "code",
   "execution_count": null,
   "source": "",
   "id": "df762bb9daaa0856",
   "outputs": []
  }
 ],
 "metadata": {
  "kernelspec": {
   "display_name": "Python 3",
   "language": "python",
   "name": "python3"
  },
  "language_info": {
   "codemirror_mode": {
    "name": "ipython",
    "version": 2
   },
   "file_extension": ".py",
   "mimetype": "text/x-python",
   "name": "python",
   "nbconvert_exporter": "python",
   "pygments_lexer": "ipython2",
   "version": "2.7.6"
  }
 },
 "nbformat": 4,
 "nbformat_minor": 5
}
