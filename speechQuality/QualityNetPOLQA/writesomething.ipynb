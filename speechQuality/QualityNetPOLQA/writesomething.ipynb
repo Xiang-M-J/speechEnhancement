{
 "cells": [
  {
   "cell_type": "code",
   "id": "initial_id",
   "metadata": {
    "collapsed": true,
    "ExecuteTime": {
     "end_time": "2024-05-11T04:53:36.362558Z",
     "start_time": "2024-05-11T04:53:36.096555Z"
    }
   },
   "source": [
    "import torch\n",
    "from models import Cnn\n",
    "from tensorboardX import SummaryWriter\n",
    "\n",
    "writer = SummaryWriter('temp1')\n",
    "model = Cnn()\n",
    "\n",
    "writer.add_graph(model, input_to_model=torch.randn(4, 512, 257))\n"
   ],
   "outputs": [
    {
     "name": "stderr",
     "output_type": "stream",
     "text": [
      "D:\\work\\speechEnhancement\\speechQuality\\QualityNetPOLQA\\models.py:122: TracerWarning: torch.tensor results are registered as constants in the trace. You can safely ignore this warning if you use this function to create tensors out of constant variables that would be the same every time you call this function. In any other case, this might cause the trace to be incorrect.\n",
      "  return torch.tensor(0), Average_score\n"
     ]
    }
   ],
   "execution_count": 2
  },
  {
   "metadata": {
    "ExecuteTime": {
     "end_time": "2024-05-11T04:54:33.194555Z",
     "start_time": "2024-05-11T04:54:33.180557Z"
    }
   },
   "cell_type": "code",
   "source": "writer.close()",
   "id": "5dfc3ad72634338b",
   "outputs": [],
   "execution_count": 3
  },
  {
   "metadata": {},
   "cell_type": "code",
   "outputs": [],
   "execution_count": null,
   "source": "",
   "id": "df762bb9daaa0856"
  }
 ],
 "metadata": {
  "kernelspec": {
   "display_name": "Python 3",
   "language": "python",
   "name": "python3"
  },
  "language_info": {
   "codemirror_mode": {
    "name": "ipython",
    "version": 2
   },
   "file_extension": ".py",
   "mimetype": "text/x-python",
   "name": "python",
   "nbconvert_exporter": "python",
   "pygments_lexer": "ipython2",
   "version": "2.7.6"
  }
 },
 "nbformat": 4,
 "nbformat_minor": 5
}
