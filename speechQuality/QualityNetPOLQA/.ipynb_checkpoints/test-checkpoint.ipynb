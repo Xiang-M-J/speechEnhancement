{
 "cells": [
  {
   "cell_type": "code",
   "execution_count": null,
   "id": "initial_id",
   "metadata": {
    "collapsed": true,
    "jupyter": {
     "outputs_hidden": true
    }
   },
   "source": [
    "import torch\n",
    "data = torch.randn([1, 25088])"
   ],
   "outputs": []
  },
  {
   "cell_type": "code",
   "execution_count": null,
   "id": "5c3c884d0072eb08",
   "metadata": {},
   "source": [
    "x1 = torch.concat([data, torch.zeros([1, 512])], dim=1)\n",
    "x2 = data\n",
    "\n",
    "y1 = torch.stft(x1, 512, hop_length=256, return_complex=True)\n",
    "y2 = torch.stft(x2, 512, hop_length=256, return_complex=True)\n",
    "y_ = torch.stft(torch.concat([x2[:, 24832:], torch.zeros([1, 256])], dim=1), 512, hop_length=256, return_complex=True, center=False)\n",
    "y2 = torch.concat([y2[:,:, :-1], y_, torch.zeros([1, 257, y1.shape[2]-y2.shape[2]])], dim=2)\n",
    "# y2 = torch.concat([y2, torch.zeros([1, 257, y1.shape[2]-y2.shape[2]])], dim=2)"
   ],
   "outputs": []
  },
  {
   "cell_type": "code",
   "execution_count": null,
   "id": "c08a4fefcab4c9fd",
   "metadata": {},
   "source": [
    "print(torch.sum(torch.abs(torch.abs(y1[:,:, 99]) - torch.abs(y2[:,:, 99]))))"
   ],
   "outputs": []
  },
  {
   "cell_type": "code",
   "execution_count": null,
   "id": "2cbf6bdb10170a07",
   "metadata": {},
   "source": [
    "print(torch.sum(torch.abs(torch.abs(y1) - torch.abs(y2))))"
   ],
   "outputs": []
  },
  {
   "cell_type": "code",
   "execution_count": null,
   "id": "fcb83b2f6e640d00",
   "metadata": {},
   "source": [
    "x1 = torch.concat([data, torch.zeros([1, 512])], dim=1)\n",
    "x2 = data\n",
    "\n",
    "y1 = torch.stft(x1, 512, hop_length=256, return_complex=True, center=False)\n",
    "y2 = torch.stft(x2, 512, hop_length=256, return_complex=True, center=False)\n",
    "y_ = torch.stft(torch.concat([x2[:, 24832:], torch.zeros([1, 256])], dim=1), 512, hop_length=256, return_complex=True, center=False)\n",
    "y2 = torch.concat([y2, y_, torch.zeros([1, 257, y1.shape[2]-y2.shape[2]-1])], dim=2)\n",
    "print(torch.sum(torch.abs(torch.abs(y1) - torch.abs(y2))))"
   ],
   "outputs": []
  },
  {
   "cell_type": "code",
   "execution_count": null,
   "id": "537a11ccfec2ea31",
   "metadata": {},
   "source": [
    "import time\n",
    "from progressbar import ProgressBar, Percentage, Bar, Timer, ETA\n",
    "\n",
    "widgets = ['Progress: ',Percentage(), ' ', Bar('#'),' ', Timer(),\n",
    "           ' ', ETA()]\n",
    "progress = ProgressBar(widgets=widgets).start()\n",
    "for i in progress(range(100)):\n",
    "    time.sleep(0.04)"
   ],
   "outputs": []
  },
  {
   "cell_type": "code",
   "execution_count": null,
   "id": "5a4b6c7d71f8275b",
   "metadata": {},
   "source": [
    "with open(\"wav_polqa.list\", \"r\", encoding=\"utf-8\") as f:\n",
    "    li = f.read().splitlines()\n",
    "\n",
    "import random\n",
    "random.shuffle(li)\n",
    "\n",
    "li_ = li[:60000]\n",
    "with open(\"wav_polqa_big.list\", \"w\", encoding=\"utf-8\") as f:\n",
    "    for l in li_:\n",
    "        f.write(l+\"\\n\")\n"
   ],
   "outputs": []
  },
  {
   "cell_type": "code",
   "execution_count": null,
   "id": "cc81537b1e2d416d",
   "metadata": {},
   "source": [
    "from trainer_utils import EarlyStopping, Args\n",
    "import time\n",
    "x = 10\n",
    "args = Args(model_type=\"\")\n",
    "print(args.patience)\n",
    "early_stopping = EarlyStopping(args.patience, args.delta_loss)\n",
    "for i in range(20):\n",
    "    time.sleep(0.1)\n",
    "    if i < 5:\n",
    "        x -= 0.1\n",
    "    else:\n",
    "        x += 1e-4\n",
    "    print(x)\n",
    "    if early_stopping(x):\n",
    "        print(\"Early stopping\")\n",
    "        break"
   ],
   "outputs": []
  },
  {
   "cell_type": "code",
   "execution_count": null,
   "id": "5f85d943530a5ff1",
   "metadata": {},
   "source": [
    "with open(\"wav_polqa.list\", \"r\", encoding=\"utf-8\") as f:\n",
    "    li = f.read().splitlines()\n",
    "\n",
    "polqa = [float(l.split(\",\")[1]) for l in li]\n"
   ],
   "outputs": []
  },
  {
   "cell_type": "code",
   "execution_count": null,
   "id": "e6668c165426048",
   "metadata": {},
   "source": [
    "import numpy as np\n",
    "from matplotlib import pyplot as plt\n",
    "plt.rcParams['font.sans-serif'] = ['Simhei']  # 显示中文\n",
    "plt.rcParams['axes.unicode_minus'] = False  # 显示负号\n",
    "plt.rcParams['font.size'] = \"14.0\"\n",
    "dpi = 300\n",
    "polqa = np.array(polqa)\n",
    "colors = ['yellowgreen', 'gold', 'lightskyblue', 'lightcoral']  # 每一块的颜色\n",
    "part = [len(polqa[(polqa>=i) & (polqa < (i + 1))]) for i in range(1,5)]\n",
    "plt.figure(dpi=100)\n",
    "plt.pie(part, labels=[\"1-2\", \"2-3\", \"3-4\", \"4-5\"], autopct='%1.1f%%', colors=colors, startangle=90)\n",
    "plt.title(\"MOS分数分布\")\n",
    "plt.tight_layout()\n",
    "plt.savefig(\"images/MOS分数分布图.png\", dpi=dpi)"
   ],
   "outputs": []
  },
  {
   "cell_type": "code",
   "execution_count": null,
   "id": "75cd5a2d9e3c88d",
   "metadata": {},
   "source": [
    "with open(\"wav_polqa.list\", \"r\", encoding=\"utf-8\") as f:\n",
    "    li = f.read().splitlines()\n",
    "\n",
    "polqa = [float(l.split(\",\")[1]) for l in li]"
   ],
   "outputs": []
  },
  {
   "cell_type": "code",
   "execution_count": null,
   "id": "8cd2b0dd145c12ae",
   "metadata": {},
   "source": [
    "import numpy as np\n",
    "step = 20\n",
    "dis_num = np.zeros([int(400 / step)])\n",
    "for p in polqa:\n",
    "    idx = (int(p * 100) - 100) // step\n",
    "    dis_num[idx] += 1\n",
    "print(dis_num)"
   ],
   "outputs": []
  },
  {
   "cell_type": "code",
   "execution_count": null,
   "id": "7f5d54615216cc0f",
   "metadata": {},
   "source": [
    "dis_prop = max(dis_num) / dis_num\n",
    "np.sqrt(dis_prop)"
   ],
   "outputs": []
  },
  {
   "cell_type": "code",
   "execution_count": null,
   "id": "9b14681c99d80cce",
   "metadata": {},
   "source": [
    "from trainer_utils import plot_metric\n",
    "import numpy as np\n",
    "path = r\"D:\\work\\speechEnhancement\\speechQuality\\QualityNetPOLQA\\results\\dpcrn_qsehasa20240518_134721\\data\\train_metric.npy\"\n",
    "data = np.load(path, allow_pickle=True).item()\n",
    "plot_metric({\"train_loss\": data['train_loss'], \"valid_loss\": data[\"valid_loss\"]},\n",
    "                                  title=\"train and valid loss\")"
   ],
   "outputs": []
  },
  {
   "cell_type": "code",
   "execution_count": null,
   "id": "8304a2aa829097b7",
   "metadata": {},
   "source": [
    "import torch\n",
    "\n",
    "model = torch.load(r\"D:\\work\\speechEnhancement\\speechQuality\\QualityNetPOLQA\\models\\dpcrn_qsehasa20240518_134721\\best.pt\")\n",
    "model.eval()\n"
   ],
   "outputs": []
  },
  {
   "cell_type": "code",
   "execution_count": 18,
   "id": "8ae5bdaa00eddbc3",
   "metadata": {
    "ExecuteTime": {
     "end_time": "2024-05-21T07:26:03.877028Z",
     "start_time": "2024-05-21T07:26:03.869028Z"
    }
   },
   "source": [
    "from utils import seed_everything\n",
    "import torch\n",
    "import random\n",
    "import numpy as np\n",
    "\n",
    "seed_everything(42)"
   ],
   "outputs": []
  },
  {
   "cell_type": "code",
   "execution_count": 24,
   "id": "e947fa7290ab4819",
   "metadata": {
    "ExecuteTime": {
     "end_time": "2024-05-21T07:26:07.351716Z",
     "start_time": "2024-05-21T07:26:07.334716Z"
    }
   },
   "source": [
    "print(torch.randn((4, 8)))\n",
    "print(np.random.rand(4, 8))"
   ],
   "outputs": []
  },
  {
   "cell_type": "code",
   "execution_count": 24,
   "id": "eac5ba5832b92314",
   "metadata": {
    "ExecuteTime": {
     "end_time": "2024-05-21T07:26:09.358216Z",
     "start_time": "2024-05-21T07:26:09.344217Z"
    }
   },
   "source": [
    "import numpy as np\n",
    "import torch\n",
    "from torch.utils.data import Dataset, DataLoader\n",
    "x = np.random.rand(10)\n",
    "\n",
    "class dataset(Dataset):\n",
    "    def __init__(self, x):\n",
    "        self.x = x\n",
    "    def __getitem__(self, idx):\n",
    "        return self.x[idx]\n",
    "    \n",
    "    def __len__(self):\n",
    "        return len(self.x)"
   ],
   "outputs": []
  },
  {
   "cell_type": "code",
   "execution_count": 38,
   "id": "4be447302c404c6a",
   "metadata": {},
   "source": [
    "d = dataset(x=x)\n",
    "l = DataLoader(d, batch_size=4, shuffle=False)\n",
    "print(len(l))\n",
    "# i_l = iter(l)\n",
    "# for i in range(20):\n",
    "#     try:\n",
    "#         y = next(i_l)\n",
    "#     except StopIteration:\n",
    "#         i_l = iter(l)\n",
    "#         y = next(i_l)\n",
    "#     print(y)\n",
    "# from trainer_utils import LoaderIterator\n",
    "\n",
    "# i_l = LoaderIterator(l)\n",
    "# for i in range(20):\n",
    "#     print(i_l())\n",
    "\n",
    "for i in range(20):\n",
    "    for j in l:\n",
    "        print(j)\n",
    "        break"
   ],
   "outputs": []
  },
  {
   "cell_type": "code",
   "execution_count": null,
   "id": "b1e3a2f779f26b4a",
   "metadata": {
    "jupyter": {
     "is_executing": true
    }
   },
   "source": [
    "from utils import get_logging\n",
    "\n",
    "logging = get_logging(\"log.txt\")\n",
    "logging.info(\"hello\")\n",
    "logging.info(\"hello\")\n",
    "logging.info(\"hello\")"
   ],
   "outputs": []
  },
  {
   "cell_type": "code",
   "execution_count": 1,
   "id": "733c34b676a37dea",
   "metadata": {},
   "source": [
    "from torch.utils.tensorboard import SummaryWriter\n",
    "import torch\n",
    "summary = SummaryWriter(\"runs/temp\")\n",
    "\n",
    "from DPCRN import dpcrn\n",
    "\n",
    "x = torch.randn([4, 2, 128, 257])\n",
    "model = dpcrn()\n",
    "\n",
    "summary.add_graph(model, x)"
   ],
   "outputs": []
  },
  {
   "cell_type": "code",
   "execution_count": 1,
   "id": "bf7cbb717b241480",
   "metadata": {},
   "source": [
    "from utils import save_graph\n",
    "from models import CnnMAttn\n",
    "import torch\n",
    "dummy_input = torch.rand([1, 512, 257])\n",
    "model = CnnMAttn()\n",
    "save_graph(model, dummy_input, \"runs/temp\")"
   ],
   "outputs": []
  },
  {
   "cell_type": "code",
   "execution_count": 34,
   "id": "c004df1e",
   "metadata": {},
   "source": [
    "import torch\n",
    "import torchsummary\n",
    "import torchinfo\n",
    "from torch.utils.tensorboard import SummaryWriter\n",
    "from models import CnnMAttn\n",
    "model = CnnMAttn()\n",
    "writer = SummaryWriter(\"runs/temp\")\n",
    "\n",
    "# text = \"\"\"\n",
    "# 123\n",
    "# 456\n",
    "# \"\"\"\n",
    "# writer.add_text(\"model info\", text)\n",
    "# print(torchinfo.summary(model, input_size=(4, 512, 257)))\n",
    "\n",
    "# a = torchinfo.summary(model, input_size=(4, 512, 257))\n",
    "# print(a)\n",
    "\n",
    "import os\n",
    "from PIL import Image, ImageDraw, ImageFont\n",
    "\n",
    "summary = torchinfo.summary(model, col_names=(\"output_size\", \"num_params\", \"kernel_size\"), row_settings=(\"depth\",\"ascii_only\"), input_size=(4, 512, 257))\n",
    "text = str(summary)\n",
    "width = summary.formatting.col_width * len(summary.formatting.col_names) * 16\n",
    "height = len(summary.summary_list) * 24 + 100\n",
    "im = Image.new(\"RGB\", (width, height), (255, 255, 255))\n",
    "dr = ImageDraw.Draw(im)\n",
    "font = ImageFont.truetype(os.path.join(\"C:/Windows/fonts\", \"consola.ttf\"), 16)\n",
    "\n",
    "dr.text((10, 5), text, font=font,  fill=\"#000000\")\n",
    "import matplotlib.pyplot as plt\n",
    "fig = plt.figure(figsize=(width/200, height/200), dpi=300)\n",
    "plt.imshow(im)\n",
    "writer.add_figure(\"model1\", fig)\n"
   ],
   "outputs": []
  },
  {
   "cell_type": "code",
   "execution_count": null,
   "id": "271c5b447fad08f2",
   "metadata": {
    "jupyter": {
     "is_executing": true
    }
   },
   "source": [
    "from models import HASANet\n",
    "import torch\n",
    "\n",
    "model = torch.load(\"models/hasa_cp20240527_001840/final.pt\")"
   ],
   "outputs": []
  },
  {
   "cell_type": "code",
   "execution_count": 12,
   "id": "cb65cc7a76a1cdf0",
   "metadata": {
    "ExecuteTime": {
     "end_time": "2024-06-05T02:07:59.493609Z",
     "start_time": "2024-06-05T02:07:59.271611Z"
    }
   },
   "source": [
    "import torch\n",
    "from trainer_utils import load_dataset_se\n",
    "model = torch.load(\"models/dpcrn_se20240518_224558/final.pt\")\n",
    "model_qn = torch.load(\"models/hasa_cp_qn20240529_214354/final.pt\")\n",
    "# model_qn = torch.load(\"models/cnnA_cp_qn20240601_110231/final.pt\")\n",
    "train_dataset, valid_dataset, test_dataset = load_dataset_se(\"wav_train_se.list\", (0.8, 0.1, 0.1), 512, 256, 2)"
   ],
   "outputs": []
  },
  {
   "cell_type": "code",
   "execution_count": 13,
   "id": "d9b4bf5b",
   "metadata": {
    "ExecuteTime": {
     "end_time": "2024-06-05T02:08:13.512609Z",
     "start_time": "2024-06-05T02:08:12.937611Z"
    }
   },
   "source": [
    "x, _, y, _ = train_dataset[8]\n",
    "print(torch.mean(torch.abs(torch.abs(x) - torch.abs(y))))\n",
    "model = model.to(\"cpu\")\n",
    "model_qn = model_qn.to(\"cpu\")\n",
    "y_pred = model(x.unsqueeze(0)).cpu().squeeze(0)\n",
    "print(torch.mean(torch.abs(torch.abs(y_pred) - torch.abs(y))))"
   ],
   "outputs": []
  },
  {
   "cell_type": "code",
   "execution_count": 14,
   "id": "ab28538f",
   "metadata": {
    "ExecuteTime": {
     "end_time": "2024-06-05T02:08:01.377611Z",
     "start_time": "2024-06-05T02:08:01.190612Z"
    }
   },
   "source": [
    "x_ = torch.norm(x, dim=0)\n",
    "y_ = torch.norm(y, dim=0)\n",
    "y_pred_ = torch.norm(y_pred, dim=0)\n",
    "diff = torch.abs((y_ - y_pred_))\n",
    "s_diff = torch.sum(diff ,dim=0).detach().numpy()\n",
    "import matplotlib.pyplot as plt\n",
    "\n",
    "plt.plot(s_diff)"
   ],
   "outputs": []
  },
  {
   "cell_type": "code",
   "execution_count": 15,
   "id": "5d05de41",
   "metadata": {},
   "source": [
    "# import torch.nn as nn\n",
    "# class HASANet(nn.Module):\n",
    "#     \"\"\"\n",
    "#     input_size: 257\n",
    "#     hidden_size: 100\n",
    "#     num_layers: 1\n",
    "#     dropout: 0\n",
    "#     linear_output: 128\n",
    "#     act_fn: 'relu'\n",
    "#     \"\"\"\n",
    "#\n",
    "#     def __init__(self):\n",
    "#         super(HASANet, self).__init__()\n",
    "#         hidden_size = 100\n",
    "#         num_layers = 1\n",
    "#         dropout = 0.\n",
    "#         linear_output = 128\n",
    "#         self.blstm = nn.LSTM(input_size=257,\n",
    "#                              hidden_size=hidden_size,\n",
    "#                              num_layers=num_layers,\n",
    "#                              dropout=dropout,\n",
    "#                              bidirectional=True,\n",
    "#                              batch_first=True)\n",
    "#         self.linear1 = nn.Linear(hidden_size * 2, linear_output, bias=True)\n",
    "#         self.act_fn = nn.ReLU()\n",
    "#         self.dropout = nn.Dropout(p=0.3)\n",
    "#         self.hasqiAtt_layer = nn.MultiheadAttention(linear_output, num_heads=8)\n",
    "#         self.ln = nn.LayerNorm(linear_output)\n",
    "#         self.hasqiframe_score = nn.Linear(linear_output, 1, bias=True)\n",
    "#         # self.act = nn.LeakyReLU()\n",
    "#         self.hasqiaverage_score = nn.AdaptiveAvgPool1d(1)\n",
    "#\n",
    "#\n",
    "#     def forward(self, x):  # hl:(B,6)\n",
    "#\n",
    "#         out, _ = self.blstm(x)  # (B,T, 2*hidden)\n",
    "#         out = self.dropout(self.act_fn(self.linear1(out))).transpose(0, 1)  #(T_length, B,  128)\n",
    "#         hasqi, _ = self.hasqiAtt_layer(out, out, out)\n",
    "#         hasqi = hasqi.transpose(0, 1)  # (B, T_length, 128)\n",
    "#         hasqi = self.ln(hasqi)\n",
    "#         hasqi = self.hasqiframe_score(hasqi)  # (B, T_length, 1)\n",
    "#         # hasqi = self.act(hasqi)  # pass a sigmoid\n",
    "#         hasqi_fram = hasqi.permute(0, 2, 1)  # (B, 1, T_length)\n",
    "#         hasqi_avg = self.hasqiaverage_score(hasqi_fram)  # (B,1,1)\n",
    "#\n",
    "#         return hasqi_fram, hasqi_avg.squeeze(1)  # (B, 1, T_length) (B,1)"
   ],
   "outputs": []
  },
  {
   "cell_type": "code",
   "execution_count": 16,
   "id": "96bdec74",
   "metadata": {
    "ExecuteTime": {
     "end_time": "2024-06-05T02:07:38.296588Z",
     "start_time": "2024-06-05T02:07:38.252588Z"
    }
   },
   "source": [
    "# model_q = HASANet()\n",
    "# model_q.load_state_dict(model_qn.state_dict())\n",
    "score1 = model_qn(y_.unsqueeze(0))\n",
    "score2 = model_qn(y_pred_.unsqueeze(0))"
   ],
   "outputs": []
  },
  {
   "cell_type": "code",
   "execution_count": 17,
   "id": "ae5ef4f6",
   "metadata": {
    "ExecuteTime": {
     "end_time": "2024-06-05T02:07:40.371851Z",
     "start_time": "2024-06-05T02:07:40.357845Z"
    }
   },
   "source": [
    "a = torch.arange(8, dtype=torch.float32).reshape(2,4)\n",
    "torch.norm(a, dim=0)"
   ],
   "outputs": []
  },
  {
   "cell_type": "code",
   "execution_count": 18,
   "id": "d25128d7",
   "metadata": {
    "ExecuteTime": {
     "end_time": "2024-06-05T02:07:49.730915Z",
     "start_time": "2024-06-05T02:07:49.719917Z"
    }
   },
   "source": [
    "print(torch.sigmoid(score1) * 4.0 + 1.0)\n",
    "print(torch.sigmoid(score2) * 4.0 + 1.0)"
   ],
   "outputs": []
  },
  {
   "cell_type": "code",
   "execution_count": 7,
   "id": "ddcf92c7",
   "metadata": {
    "ExecuteTime": {
     "end_time": "2024-06-05T02:07:52.038916Z",
     "start_time": "2024-06-05T02:07:51.203915Z"
    }
   },
   "source": [
    "from lstm import lstm_net\n",
    "from torchinfo import summary\n",
    "model = lstm_net(512)\n",
    "summary(model, col_names=(\"output_size\", \"num_params\", \"kernel_size\"), input_size=(4, 512, 257))"
   ],
   "outputs": []
  },
  {
   "cell_type": "code",
   "execution_count": null,
   "id": "b155696c71fa4723",
   "metadata": {},
   "source": [],
   "outputs": []
  }
 ],
 "metadata": {
  "kernelspec": {
   "display_name": "Python 3 (ipykernel)",
   "language": "python",
   "name": "python3"
  },
  "language_info": {
   "codemirror_mode": {
    "name": "ipython",
    "version": 3
   },
   "file_extension": ".py",
   "mimetype": "text/x-python",
   "name": "python",
   "nbconvert_exporter": "python",
   "pygments_lexer": "ipython3",
   "version": "3.9.13"
  }
 },
 "nbformat": 4,
 "nbformat_minor": 5
}
