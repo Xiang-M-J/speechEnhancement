{
 "cells": [
  {
   "cell_type": "code",
   "execution_count": 95,
   "id": "initial_id",
   "metadata": {
    "ExecuteTime": {
     "end_time": "2024-05-07T06:51:55.714321Z",
     "start_time": "2024-05-07T06:51:55.707325Z"
    },
    "collapsed": true
   },
   "source": [
    "import torch\n",
    "data = torch.randn([1, 25088])"
   ],
   "outputs": []
  },
  {
   "cell_type": "code",
   "execution_count": 101,
   "id": "5c3c884d0072eb08",
   "metadata": {
    "ExecuteTime": {
     "end_time": "2024-05-07T06:57:11.282634Z",
     "start_time": "2024-05-07T06:57:11.270636Z"
    }
   },
   "source": [
    "x1 = torch.concat([data, torch.zeros([1, 512])], dim=1)\n",
    "x2 = data\n",
    "\n",
    "y1 = torch.stft(x1, 512, hop_length=256, return_complex=True)\n",
    "y2 = torch.stft(x2, 512, hop_length=256, return_complex=True)\n",
    "y_ = torch.stft(torch.concat([x2[:, 24832:], torch.zeros([1, 256])], dim=1), 512, hop_length=256, return_complex=True, center=False)\n",
    "y2 = torch.concat([y2[:,:, :-1], y_, torch.zeros([1, 257, y1.shape[2]-y2.shape[2]])], dim=2)\n",
    "# y2 = torch.concat([y2, torch.zeros([1, 257, y1.shape[2]-y2.shape[2]])], dim=2)"
   ],
   "outputs": []
  },
  {
   "cell_type": "code",
   "execution_count": 102,
   "id": "c08a4fefcab4c9fd",
   "metadata": {
    "ExecuteTime": {
     "end_time": "2024-05-07T06:57:12.068638Z",
     "start_time": "2024-05-07T06:57:12.063637Z"
    }
   },
   "source": [
    "print(torch.sum(torch.abs(torch.abs(y1[:,:, 99]) - torch.abs(y2[:,:, 99]))))"
   ],
   "outputs": []
  },
  {
   "cell_type": "code",
   "execution_count": 103,
   "id": "2cbf6bdb10170a07",
   "metadata": {
    "ExecuteTime": {
     "end_time": "2024-05-07T06:57:12.676633Z",
     "start_time": "2024-05-07T06:57:12.656637Z"
    }
   },
   "source": [
    "print(torch.sum(torch.abs(torch.abs(y1) - torch.abs(y2))))"
   ],
   "outputs": []
  },
  {
   "cell_type": "code",
   "execution_count": 104,
   "id": "fcb83b2f6e640d00",
   "metadata": {
    "ExecuteTime": {
     "end_time": "2024-05-07T07:02:18.568759Z",
     "start_time": "2024-05-07T07:02:18.553759Z"
    }
   },
   "source": [
    "x1 = torch.concat([data, torch.zeros([1, 512])], dim=1)\n",
    "x2 = data\n",
    "\n",
    "y1 = torch.stft(x1, 512, hop_length=256, return_complex=True, center=False)\n",
    "y2 = torch.stft(x2, 512, hop_length=256, return_complex=True, center=False)\n",
    "y_ = torch.stft(torch.concat([x2[:, 24832:], torch.zeros([1, 256])], dim=1), 512, hop_length=256, return_complex=True, center=False)\n",
    "y2 = torch.concat([y2, y_, torch.zeros([1, 257, y1.shape[2]-y2.shape[2]-1])], dim=2)\n",
    "print(torch.sum(torch.abs(torch.abs(y1) - torch.abs(y2))))"
   ],
   "outputs": []
  },
  {
   "cell_type": "code",
   "execution_count": 11,
   "id": "537a11ccfec2ea31",
   "metadata": {
    "ExecuteTime": {
     "end_time": "2024-05-08T08:18:49.674517Z",
     "start_time": "2024-05-08T08:18:49.656519Z"
    }
   },
   "source": [
    "import time\n",
    "from progressbar import ProgressBar, Percentage, Bar, Timer, ETA\n",
    "\n",
    "widgets = ['Progress: ',Percentage(), ' ', Bar('#'),' ', Timer(),\n",
    "           ' ', ETA()]\n",
    "progress = ProgressBar(widgets=widgets).start()\n",
    "for i in progress(range(100)):\n",
    "    time.sleep(0.04)"
   ],
   "outputs": []
  },
  {
   "cell_type": "code",
   "execution_count": 2,
   "id": "5a4b6c7d71f8275b",
   "metadata": {},
   "source": [
    "with open(\"wav_polqa.list\", \"r\", encoding=\"utf-8\") as f:\n",
    "    li = f.read().splitlines()\n",
    "\n",
    "import random\n",
    "random.shuffle(li)\n",
    "\n",
    "li_ = li[:5000]\n",
    "with open(\"wav_polqa_mini.list\", \"w\", encoding=\"utf-8\") as f:\n",
    "    for l in li_:\n",
    "        f.write(l+\"\\n\")\n"
   ],
   "outputs": []
  },
  {
   "metadata": {},
   "cell_type": "code",
   "outputs": [],
   "execution_count": null,
   "source": "",
   "id": "cc81537b1e2d416d"
  }
 ],
 "metadata": {
  "kernelspec": {
   "display_name": "Python 3",
   "language": "python",
   "name": "python3"
  },
  "language_info": {
   "codemirror_mode": {
    "name": "ipython",
    "version": 3
   },
   "file_extension": ".py",
   "mimetype": "text/x-python",
   "name": "python",
   "nbconvert_exporter": "python",
   "pygments_lexer": "ipython3",
   "version": "3.10.6"
  }
 },
 "nbformat": 4,
 "nbformat_minor": 5
}
