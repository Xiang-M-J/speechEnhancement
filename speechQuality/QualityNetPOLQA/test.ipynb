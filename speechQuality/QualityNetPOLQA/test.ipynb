{
 "cells": [
  {
   "cell_type": "code",
   "id": "initial_id",
   "metadata": {
    "collapsed": true
   },
   "source": [
    "import torch\n",
    "data = torch.randn([1, 25088])"
   ],
   "outputs": [],
   "execution_count": null
  },
  {
   "cell_type": "code",
   "id": "5c3c884d0072eb08",
   "metadata": {},
   "source": [
    "x1 = torch.concat([data, torch.zeros([1, 512])], dim=1)\n",
    "x2 = data\n",
    "\n",
    "y1 = torch.stft(x1, 512, hop_length=256, return_complex=True)\n",
    "y2 = torch.stft(x2, 512, hop_length=256, return_complex=True)\n",
    "y_ = torch.stft(torch.concat([x2[:, 24832:], torch.zeros([1, 256])], dim=1), 512, hop_length=256, return_complex=True, center=False)\n",
    "y2 = torch.concat([y2[:,:, :-1], y_, torch.zeros([1, 257, y1.shape[2]-y2.shape[2]])], dim=2)\n",
    "# y2 = torch.concat([y2, torch.zeros([1, 257, y1.shape[2]-y2.shape[2]])], dim=2)"
   ],
   "outputs": [],
   "execution_count": null
  },
  {
   "cell_type": "code",
   "id": "c08a4fefcab4c9fd",
   "metadata": {},
   "source": [
    "print(torch.sum(torch.abs(torch.abs(y1[:,:, 99]) - torch.abs(y2[:,:, 99]))))"
   ],
   "outputs": [],
   "execution_count": null
  },
  {
   "cell_type": "code",
   "id": "2cbf6bdb10170a07",
   "metadata": {},
   "source": [
    "print(torch.sum(torch.abs(torch.abs(y1) - torch.abs(y2))))"
   ],
   "outputs": [],
   "execution_count": null
  },
  {
   "cell_type": "code",
   "id": "fcb83b2f6e640d00",
   "metadata": {},
   "source": [
    "x1 = torch.concat([data, torch.zeros([1, 512])], dim=1)\n",
    "x2 = data\n",
    "\n",
    "y1 = torch.stft(x1, 512, hop_length=256, return_complex=True, center=False)\n",
    "y2 = torch.stft(x2, 512, hop_length=256, return_complex=True, center=False)\n",
    "y_ = torch.stft(torch.concat([x2[:, 24832:], torch.zeros([1, 256])], dim=1), 512, hop_length=256, return_complex=True, center=False)\n",
    "y2 = torch.concat([y2, y_, torch.zeros([1, 257, y1.shape[2]-y2.shape[2]-1])], dim=2)\n",
    "print(torch.sum(torch.abs(torch.abs(y1) - torch.abs(y2))))"
   ],
   "outputs": [],
   "execution_count": null
  },
  {
   "cell_type": "code",
   "id": "537a11ccfec2ea31",
   "metadata": {},
   "source": [
    "import time\n",
    "from progressbar import ProgressBar, Percentage, Bar, Timer, ETA\n",
    "\n",
    "widgets = ['Progress: ',Percentage(), ' ', Bar('#'),' ', Timer(),\n",
    "           ' ', ETA()]\n",
    "progress = ProgressBar(widgets=widgets).start()\n",
    "for i in progress(range(100)):\n",
    "    time.sleep(0.04)"
   ],
   "outputs": [],
   "execution_count": null
  },
  {
   "cell_type": "code",
   "id": "5a4b6c7d71f8275b",
   "metadata": {},
   "source": [
    "with open(\"wav_polqa.list\", \"r\", encoding=\"utf-8\") as f:\n",
    "    li = f.read().splitlines()\n",
    "\n",
    "import random\n",
    "random.shuffle(li)\n",
    "\n",
    "li_ = li[:60000]\n",
    "with open(\"wav_polqa_big.list\", \"w\", encoding=\"utf-8\") as f:\n",
    "    for l in li_:\n",
    "        f.write(l+\"\\n\")\n"
   ],
   "outputs": [],
   "execution_count": null
  },
  {
   "cell_type": "code",
   "id": "cc81537b1e2d416d",
   "metadata": {},
   "source": [
    "from trainer_utils import EarlyStopping, Args\n",
    "import time\n",
    "x = 10\n",
    "args = Args(model_type=\"\")\n",
    "print(args.patience)\n",
    "early_stopping = EarlyStopping(args.patience, args.delta_loss)\n",
    "for i in range(20):\n",
    "    time.sleep(0.1)\n",
    "    if i < 5:\n",
    "        x -= 0.1\n",
    "    else:\n",
    "        x += 1e-4\n",
    "    print(x)\n",
    "    if early_stopping(x):\n",
    "        print(\"Early stopping\")\n",
    "        break"
   ],
   "outputs": [],
   "execution_count": null
  },
  {
   "cell_type": "code",
   "id": "5f85d943530a5ff1",
   "metadata": {},
   "source": [
    "with open(\"wav_polqa.list\", \"r\", encoding=\"utf-8\") as f:\n",
    "    li = f.read().splitlines()\n",
    "\n",
    "polqa = [float(l.split(\",\")[1]) for l in li]\n"
   ],
   "outputs": [],
   "execution_count": null
  },
  {
   "cell_type": "code",
   "id": "e6668c165426048",
   "metadata": {},
   "source": [
    "import numpy as np\n",
    "from matplotlib import pyplot as plt\n",
    "plt.rcParams['font.sans-serif'] = ['Simhei']  # 显示中文\n",
    "plt.rcParams['axes.unicode_minus'] = False  # 显示负号\n",
    "plt.rcParams['font.size'] = \"14.0\"\n",
    "dpi = 300\n",
    "polqa = np.array(polqa)\n",
    "colors = ['yellowgreen', 'gold', 'lightskyblue', 'lightcoral']  # 每一块的颜色\n",
    "part = [len(polqa[(polqa>=i) & (polqa < (i + 1))]) for i in range(1,5)]\n",
    "plt.figure(dpi=100)\n",
    "plt.pie(part, labels=[\"1-2\", \"2-3\", \"3-4\", \"4-5\"], autopct='%1.1f%%', colors=colors, startangle=90)\n",
    "plt.title(\"MOS分数分布\")\n",
    "plt.tight_layout()\n",
    "plt.savefig(\"images/MOS分数分布图.png\", dpi=dpi)"
   ],
   "outputs": [],
   "execution_count": null
  },
  {
   "cell_type": "code",
   "id": "75cd5a2d9e3c88d",
   "metadata": {},
   "source": [
    "with open(\"wav_polqa.list\", \"r\", encoding=\"utf-8\") as f:\n",
    "    li = f.read().splitlines()\n",
    "\n",
    "polqa = [float(l.split(\",\")[1]) for l in li]"
   ],
   "outputs": [],
   "execution_count": null
  },
  {
   "cell_type": "code",
   "id": "8cd2b0dd145c12ae",
   "metadata": {},
   "source": [
    "import numpy as np\n",
    "step = 20\n",
    "dis_num = np.zeros([int(400 / step)])\n",
    "for p in polqa:\n",
    "    idx = (int(p * 100) - 100) // step\n",
    "    dis_num[idx] += 1\n",
    "print(dis_num)"
   ],
   "outputs": [],
   "execution_count": null
  },
  {
   "cell_type": "code",
   "id": "7f5d54615216cc0f",
   "metadata": {},
   "source": [
    "dis_prop = max(dis_num) / dis_num\n",
    "np.sqrt(dis_prop)"
   ],
   "outputs": [],
   "execution_count": null
  },
  {
   "metadata": {},
   "cell_type": "code",
   "source": [
    "from trainer_utils import plot_metric\n",
    "import numpy as np\n",
    "path = r\"D:\\work\\speechEnhancement\\speechQuality\\QualityNetPOLQA\\results\\dpcrn_qsehasa20240518_134721\\data\\train_metric.npy\"\n",
    "data = np.load(path, allow_pickle=True).item()\n",
    "plot_metric({\"train_loss\": data['train_loss'], \"valid_loss\": data[\"valid_loss\"]},\n",
    "                                  title=\"train and valid loss\")"
   ],
   "id": "9b14681c99d80cce",
   "outputs": [],
   "execution_count": null
  },
  {
   "metadata": {},
   "cell_type": "code",
   "source": [
    "import torch\n",
    "\n",
    "model = torch.load(r\"D:\\work\\speechEnhancement\\speechQuality\\QualityNetPOLQA\\models\\dpcrn_qsehasa20240518_134721\\best.pt\")\n",
    "model.eval()\n"
   ],
   "id": "8304a2aa829097b7",
   "outputs": [],
   "execution_count": null
  },
  {
   "metadata": {
    "ExecuteTime": {
     "end_time": "2024-05-21T07:26:03.877028Z",
     "start_time": "2024-05-21T07:26:03.869028Z"
    }
   },
   "cell_type": "code",
   "source": [
    "from utils import seed_everything\n",
    "import torch\n",
    "import random\n",
    "import numpy as np\n",
    "\n",
    "seed_everything(42)"
   ],
   "id": "8ae5bdaa00eddbc3",
   "outputs": [],
   "execution_count": 22
  },
  {
   "metadata": {
    "ExecuteTime": {
     "end_time": "2024-05-21T07:26:07.351716Z",
     "start_time": "2024-05-21T07:26:07.334716Z"
    }
   },
   "cell_type": "code",
   "source": [
    "print(torch.randn((4, 8)))\n",
    "print(np.random.rand(4, 8))"
   ],
   "id": "e947fa7290ab4819",
   "outputs": [
    {
     "name": "stdout",
     "output_type": "stream",
     "text": [
      "tensor([[-1.3847, -0.8712, -0.2234,  1.7174,  0.3189, -0.4245,  0.3057, -0.7746],\n",
      "        [-1.5576,  0.9956, -0.8798, -0.6011, -1.2742,  2.1228, -1.2347, -0.4879],\n",
      "        [-0.9138, -0.6581,  0.0780,  0.5258, -0.4880,  1.1914, -0.8140, -0.7360],\n",
      "        [-1.4032,  0.0360, -0.0635,  0.6756, -0.0978,  1.8446, -1.1845,  1.3835]])\n",
      "[[0.06505159 0.94888554 0.96563203 0.80839735 0.30461377 0.09767211\n",
      "  0.68423303 0.44015249]\n",
      " [0.12203823 0.49517691 0.03438852 0.9093204  0.25877998 0.66252228\n",
      "  0.31171108 0.52006802]\n",
      " [0.54671028 0.18485446 0.96958463 0.77513282 0.93949894 0.89482735\n",
      "  0.59789998 0.92187424]\n",
      " [0.0884925  0.19598286 0.04522729 0.32533033 0.38867729 0.27134903\n",
      "  0.82873751 0.35675333]]\n"
     ]
    }
   ],
   "execution_count": 24
  },
  {
   "metadata": {
    "ExecuteTime": {
     "end_time": "2024-05-21T07:26:09.358216Z",
     "start_time": "2024-05-21T07:26:09.344217Z"
    }
   },
   "cell_type": "code",
   "source": "",
   "id": "eac5ba5832b92314",
   "outputs": [],
   "execution_count": 24
  },
  {
   "metadata": {},
   "cell_type": "code",
   "outputs": [],
   "execution_count": null,
   "source": "",
   "id": "4be447302c404c6a"
  }
 ],
 "metadata": {
  "kernelspec": {
   "display_name": "Python 3",
   "language": "python",
   "name": "python3"
  },
  "language_info": {
   "codemirror_mode": {
    "name": "ipython",
    "version": 3
   },
   "file_extension": ".py",
   "mimetype": "text/x-python",
   "name": "python",
   "nbconvert_exporter": "python",
   "pygments_lexer": "ipython3",
   "version": "3.10.6"
  }
 },
 "nbformat": 4,
 "nbformat_minor": 5
}
