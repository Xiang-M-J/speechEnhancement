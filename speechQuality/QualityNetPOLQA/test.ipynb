{
 "cells": [
  {
   "cell_type": "code",
   "execution_count": 95,
   "id": "initial_id",
   "metadata": {
    "ExecuteTime": {
     "end_time": "2024-05-07T06:51:55.714321Z",
     "start_time": "2024-05-07T06:51:55.707325Z"
    },
    "collapsed": true
   },
   "outputs": [],
   "source": [
    "import torch\n",
    "data = torch.randn([1, 25088])"
   ]
  },
  {
   "cell_type": "code",
   "execution_count": 101,
   "id": "5c3c884d0072eb08",
   "metadata": {
    "ExecuteTime": {
     "end_time": "2024-05-07T06:57:11.282634Z",
     "start_time": "2024-05-07T06:57:11.270636Z"
    }
   },
   "outputs": [],
   "source": [
    "x1 = torch.concat([data, torch.zeros([1, 512])], dim=1)\n",
    "x2 = data\n",
    "\n",
    "y1 = torch.stft(x1, 512, hop_length=256, return_complex=True)\n",
    "y2 = torch.stft(x2, 512, hop_length=256, return_complex=True)\n",
    "y_ = torch.stft(torch.concat([x2[:, 24832:], torch.zeros([1, 256])], dim=1), 512, hop_length=256, return_complex=True, center=False)\n",
    "y2 = torch.concat([y2[:,:, :-1], y_, torch.zeros([1, 257, y1.shape[2]-y2.shape[2]])], dim=2)\n",
    "# y2 = torch.concat([y2, torch.zeros([1, 257, y1.shape[2]-y2.shape[2]])], dim=2)"
   ]
  },
  {
   "cell_type": "code",
   "execution_count": 102,
   "id": "c08a4fefcab4c9fd",
   "metadata": {
    "ExecuteTime": {
     "end_time": "2024-05-07T06:57:12.068638Z",
     "start_time": "2024-05-07T06:57:12.063637Z"
    }
   },
   "outputs": [],
   "source": [
    "print(torch.sum(torch.abs(torch.abs(y1[:,:, 99]) - torch.abs(y2[:,:, 99]))))"
   ]
  },
  {
   "cell_type": "code",
   "execution_count": 103,
   "id": "2cbf6bdb10170a07",
   "metadata": {
    "ExecuteTime": {
     "end_time": "2024-05-07T06:57:12.676633Z",
     "start_time": "2024-05-07T06:57:12.656637Z"
    }
   },
   "outputs": [],
   "source": [
    "print(torch.sum(torch.abs(torch.abs(y1) - torch.abs(y2))))"
   ]
  },
  {
   "cell_type": "code",
   "execution_count": 104,
   "id": "fcb83b2f6e640d00",
   "metadata": {
    "ExecuteTime": {
     "end_time": "2024-05-07T07:02:18.568759Z",
     "start_time": "2024-05-07T07:02:18.553759Z"
    }
   },
   "outputs": [],
   "source": [
    "x1 = torch.concat([data, torch.zeros([1, 512])], dim=1)\n",
    "x2 = data\n",
    "\n",
    "y1 = torch.stft(x1, 512, hop_length=256, return_complex=True, center=False)\n",
    "y2 = torch.stft(x2, 512, hop_length=256, return_complex=True, center=False)\n",
    "y_ = torch.stft(torch.concat([x2[:, 24832:], torch.zeros([1, 256])], dim=1), 512, hop_length=256, return_complex=True, center=False)\n",
    "y2 = torch.concat([y2, y_, torch.zeros([1, 257, y1.shape[2]-y2.shape[2]-1])], dim=2)\n",
    "print(torch.sum(torch.abs(torch.abs(y1) - torch.abs(y2))))"
   ]
  },
  {
   "cell_type": "code",
   "execution_count": 11,
   "id": "537a11ccfec2ea31",
   "metadata": {
    "ExecuteTime": {
     "end_time": "2024-05-08T08:18:49.674517Z",
     "start_time": "2024-05-08T08:18:49.656519Z"
    }
   },
   "outputs": [],
   "source": [
    "import time\n",
    "from progressbar import ProgressBar, Percentage, Bar, Timer, ETA\n",
    "\n",
    "widgets = ['Progress: ',Percentage(), ' ', Bar('#'),' ', Timer(),\n",
    "           ' ', ETA()]\n",
    "progress = ProgressBar(widgets=widgets).start()\n",
    "for i in progress(range(100)):\n",
    "    time.sleep(0.04)"
   ]
  },
  {
   "cell_type": "code",
   "execution_count": 10,
   "id": "5a4b6c7d71f8275b",
   "metadata": {
    "ExecuteTime": {
     "end_time": "2024-05-12T16:15:26.114391Z",
     "start_time": "2024-05-12T16:15:25.930186Z"
    }
   },
   "outputs": [],
   "source": [
    "with open(\"wav_polqa.list\", \"r\", encoding=\"utf-8\") as f:\n",
    "    li = f.read().splitlines()\n",
    "\n",
    "import random\n",
    "random.shuffle(li)\n",
    "\n",
    "li_ = li[:60000]\n",
    "with open(\"wav_polqa_big.list\", \"w\", encoding=\"utf-8\") as f:\n",
    "    for l in li_:\n",
    "        f.write(l+\"\\n\")\n"
   ]
  },
  {
   "cell_type": "code",
   "execution_count": 1,
   "id": "cc81537b1e2d416d",
   "metadata": {
    "ExecuteTime": {
     "end_time": "2024-05-09T08:16:10.520722Z",
     "start_time": "2024-05-09T08:16:07.472723Z"
    }
   },
   "outputs": [],
   "source": [
    "from trainer_utils import EarlyStopping, Args\n",
    "import time\n",
    "x = 10\n",
    "args = Args(model_type=\"\")\n",
    "print(args.patience)\n",
    "early_stopping = EarlyStopping(args.patience, args.delta_loss)\n",
    "for i in range(20):\n",
    "    time.sleep(0.1)\n",
    "    if i < 5:\n",
    "        x -= 0.1\n",
    "    else:\n",
    "        x += 1e-4\n",
    "    print(x)\n",
    "    if early_stopping(x):\n",
    "        print(\"Early stopping\")\n",
    "        break"
   ]
  },
  {
   "cell_type": "code",
   "execution_count": 1,
   "id": "5f85d943530a5ff1",
   "metadata": {
    "ExecuteTime": {
     "end_time": "2024-05-10T04:53:40.635306Z",
     "start_time": "2024-05-10T04:53:40.473308Z"
    }
   },
   "outputs": [],
   "source": [
    "with open(\"wav_polqa.list\", \"r\", encoding=\"utf-8\") as f:\n",
    "    li = f.read().splitlines()\n",
    "\n",
    "polqa = [float(l.split(\",\")[1]) for l in li]\n"
   ]
  },
  {
   "cell_type": "code",
   "execution_count": 19,
   "id": "e6668c165426048",
   "metadata": {
    "ExecuteTime": {
     "end_time": "2024-05-10T05:11:53.956121Z",
     "start_time": "2024-05-10T05:11:53.703122Z"
    }
   },
   "outputs": [],
   "source": [
    "import numpy as np\n",
    "from matplotlib import pyplot as plt\n",
    "plt.rcParams['font.sans-serif'] = ['Simhei']  # 显示中文\n",
    "plt.rcParams['axes.unicode_minus'] = False  # 显示负号\n",
    "plt.rcParams['font.size'] = \"14.0\"\n",
    "dpi = 300\n",
    "polqa = np.array(polqa)\n",
    "colors = ['yellowgreen', 'gold', 'lightskyblue', 'lightcoral']  # 每一块的颜色\n",
    "part = [len(polqa[(polqa>=i) & (polqa < (i + 1))]) for i in range(1,5)]\n",
    "plt.figure(dpi=100)\n",
    "plt.pie(part, labels=[\"1-2\", \"2-3\", \"3-4\", \"4-5\"], autopct='%1.1f%%', colors=colors, startangle=90)\n",
    "plt.title(\"MOS分数分布\")\n",
    "plt.tight_layout()\n",
    "plt.savefig(\"images/MOS分数分布图.png\", dpi=dpi)"
   ]
  },
  {
   "cell_type": "code",
   "execution_count": 1,
   "id": "75cd5a2d9e3c88d",
   "metadata": {
    "ExecuteTime": {
     "end_time": "2024-05-12T14:00:32.102628Z",
     "start_time": "2024-05-12T14:00:31.927625Z"
    }
   },
   "outputs": [],
   "source": [
    "with open(\"wav_polqa.list\", \"r\", encoding=\"utf-8\") as f:\n",
    "    li = f.read().splitlines()\n",
    "\n",
    "polqa = [float(l.split(\",\")[1]) for l in li]"
   ]
  },
  {
   "cell_type": "code",
   "execution_count": 3,
   "id": "8cd2b0dd145c12ae",
   "metadata": {
    "ExecuteTime": {
     "end_time": "2024-05-12T14:06:06.582903Z",
     "start_time": "2024-05-12T14:06:06.489903Z"
    }
   },
   "outputs": [
    {
     "name": "stdout",
     "output_type": "stream",
     "text": [
      "[39673. 26603. 18125. 12580.  9535.  7744.  7139.  8371.  5284.  4330.\n",
      "  3678.  2926.  2268.  1657.  1144.   869.   724.  1050. 18901.  7354.]\n"
     ]
    }
   ],
   "source": [
    "import numpy as np\n",
    "step = 20\n",
    "dis_num = np.zeros([int(400 / step)])\n",
    "for p in polqa:\n",
    "    idx = (int(p * 100) - 100) // step\n",
    "    dis_num[idx] += 1\n",
    "print(dis_num)"
   ]
  },
  {
   "cell_type": "code",
   "execution_count": 5,
   "id": "7f5d54615216cc0f",
   "metadata": {},
   "outputs": [
    {
     "data": {
      "text/plain": [
       "array([1.        , 1.22118712, 1.47947801, 1.77585377, 2.03979805,\n",
       "       2.26341844, 2.35737585, 2.17700211, 2.74009813, 3.02693833,\n",
       "       3.28429122, 3.68222532, 4.18240414, 4.89312451, 5.88890447,\n",
       "       6.75674662, 7.40249697, 6.14685363, 1.44878897, 2.32266036])"
      ]
     },
     "execution_count": 5,
     "metadata": {},
     "output_type": "execute_result"
    },
    {
     "ename": "",
     "evalue": "",
     "output_type": "error",
     "traceback": [
      "\u001b[1;31mThe Kernel crashed while executing code in the current cell or a previous cell. \n",
      "\u001b[1;31mPlease review the code in the cell(s) to identify a possible cause of the failure. \n",
      "\u001b[1;31mClick <a href='https://aka.ms/vscodeJupyterKernelCrash'>here</a> for more info. \n",
      "\u001b[1;31mView Jupyter <a href='command:jupyter.viewOutput'>log</a> for further details."
     ]
    }
   ],
   "source": [
    "dis_prop = max(dis_num) / dis_num\n",
    "np.sqrt(dis_prop)"
   ]
  }
 ],
 "metadata": {
  "kernelspec": {
   "display_name": "Python 3",
   "language": "python",
   "name": "python3"
  },
  "language_info": {
   "codemirror_mode": {
    "name": "ipython",
    "version": 3
   },
   "file_extension": ".py",
   "mimetype": "text/x-python",
   "name": "python",
   "nbconvert_exporter": "python",
   "pygments_lexer": "ipython3",
   "version": "3.10.6"
  }
 },
 "nbformat": 4,
 "nbformat_minor": 5
}
