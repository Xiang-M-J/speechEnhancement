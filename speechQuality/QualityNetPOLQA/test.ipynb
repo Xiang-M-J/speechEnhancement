{
 "cells": [
  {
   "cell_type": "code",
   "id": "initial_id",
   "metadata": {
    "collapsed": true
   },
   "source": [
    "import torch\n",
    "data = torch.randn([1, 25088])"
   ],
   "execution_count": null,
   "outputs": []
  },
  {
   "cell_type": "code",
   "id": "5c3c884d0072eb08",
   "metadata": {},
   "source": [
    "x1 = torch.concat([data, torch.zeros([1, 512])], dim=1)\n",
    "x2 = data\n",
    "\n",
    "y1 = torch.stft(x1, 512, hop_length=256, return_complex=True)\n",
    "y2 = torch.stft(x2, 512, hop_length=256, return_complex=True)\n",
    "y_ = torch.stft(torch.concat([x2[:, 24832:], torch.zeros([1, 256])], dim=1), 512, hop_length=256, return_complex=True, center=False)\n",
    "y2 = torch.concat([y2[:,:, :-1], y_, torch.zeros([1, 257, y1.shape[2]-y2.shape[2]])], dim=2)\n",
    "# y2 = torch.concat([y2, torch.zeros([1, 257, y1.shape[2]-y2.shape[2]])], dim=2)"
   ],
   "execution_count": null,
   "outputs": []
  },
  {
   "cell_type": "code",
   "id": "c08a4fefcab4c9fd",
   "metadata": {},
   "source": [
    "print(torch.sum(torch.abs(torch.abs(y1[:,:, 99]) - torch.abs(y2[:,:, 99]))))"
   ],
   "execution_count": null,
   "outputs": []
  },
  {
   "cell_type": "code",
   "id": "2cbf6bdb10170a07",
   "metadata": {},
   "source": [
    "print(torch.sum(torch.abs(torch.abs(y1) - torch.abs(y2))))"
   ],
   "execution_count": null,
   "outputs": []
  },
  {
   "cell_type": "code",
   "id": "fcb83b2f6e640d00",
   "metadata": {},
   "source": [
    "x1 = torch.concat([data, torch.zeros([1, 512])], dim=1)\n",
    "x2 = data\n",
    "\n",
    "y1 = torch.stft(x1, 512, hop_length=256, return_complex=True, center=False)\n",
    "y2 = torch.stft(x2, 512, hop_length=256, return_complex=True, center=False)\n",
    "y_ = torch.stft(torch.concat([x2[:, 24832:], torch.zeros([1, 256])], dim=1), 512, hop_length=256, return_complex=True, center=False)\n",
    "y2 = torch.concat([y2, y_, torch.zeros([1, 257, y1.shape[2]-y2.shape[2]-1])], dim=2)\n",
    "print(torch.sum(torch.abs(torch.abs(y1) - torch.abs(y2))))"
   ],
   "execution_count": null,
   "outputs": []
  },
  {
   "cell_type": "code",
   "id": "537a11ccfec2ea31",
   "metadata": {},
   "source": [
    "import time\n",
    "from progressbar import ProgressBar, Percentage, Bar, Timer, ETA\n",
    "\n",
    "widgets = ['Progress: ',Percentage(), ' ', Bar('#'),' ', Timer(),\n",
    "           ' ', ETA()]\n",
    "progress = ProgressBar(widgets=widgets).start()\n",
    "for i in progress(range(100)):\n",
    "    time.sleep(0.04)"
   ],
   "execution_count": null,
   "outputs": []
  },
  {
   "cell_type": "code",
   "id": "5a4b6c7d71f8275b",
   "metadata": {},
   "source": [
    "with open(\"wav_polqa.list\", \"r\", encoding=\"utf-8\") as f:\n",
    "    li = f.read().splitlines()\n",
    "\n",
    "import random\n",
    "random.shuffle(li)\n",
    "\n",
    "li_ = li[:60000]\n",
    "with open(\"wav_polqa_big.list\", \"w\", encoding=\"utf-8\") as f:\n",
    "    for l in li_:\n",
    "        f.write(l+\"\\n\")\n"
   ],
   "execution_count": null,
   "outputs": []
  },
  {
   "cell_type": "code",
   "id": "cc81537b1e2d416d",
   "metadata": {},
   "source": [
    "from trainer_utils import EarlyStopping, Args\n",
    "import time\n",
    "x = 10\n",
    "args = Args(model_type=\"\")\n",
    "print(args.patience)\n",
    "early_stopping = EarlyStopping(args.patience, args.delta_loss)\n",
    "for i in range(20):\n",
    "    time.sleep(0.1)\n",
    "    if i < 5:\n",
    "        x -= 0.1\n",
    "    else:\n",
    "        x += 1e-4\n",
    "    print(x)\n",
    "    if early_stopping(x):\n",
    "        print(\"Early stopping\")\n",
    "        break"
   ],
   "execution_count": null,
   "outputs": []
  },
  {
   "cell_type": "code",
   "id": "5f85d943530a5ff1",
   "metadata": {},
   "source": [
    "with open(\"wav_polqa.list\", \"r\", encoding=\"utf-8\") as f:\n",
    "    li = f.read().splitlines()\n",
    "\n",
    "polqa = [float(l.split(\",\")[1]) for l in li]\n"
   ],
   "execution_count": null,
   "outputs": []
  },
  {
   "cell_type": "code",
   "id": "e6668c165426048",
   "metadata": {},
   "source": [
    "import numpy as np\n",
    "from matplotlib import pyplot as plt\n",
    "plt.rcParams['font.sans-serif'] = ['Simhei']  # 显示中文\n",
    "plt.rcParams['axes.unicode_minus'] = False  # 显示负号\n",
    "plt.rcParams['font.size'] = \"14.0\"\n",
    "dpi = 300\n",
    "polqa = np.array(polqa)\n",
    "colors = ['yellowgreen', 'gold', 'lightskyblue', 'lightcoral']  # 每一块的颜色\n",
    "part = [len(polqa[(polqa>=i) & (polqa < (i + 1))]) for i in range(1,5)]\n",
    "plt.figure(dpi=100)\n",
    "plt.pie(part, labels=[\"1-2\", \"2-3\", \"3-4\", \"4-5\"], autopct='%1.1f%%', colors=colors, startangle=90)\n",
    "plt.title(\"MOS分数分布\")\n",
    "plt.tight_layout()\n",
    "plt.savefig(\"images/MOS分数分布图.png\", dpi=dpi)"
   ],
   "execution_count": null,
   "outputs": []
  },
  {
   "cell_type": "code",
   "id": "75cd5a2d9e3c88d",
   "metadata": {},
   "source": [
    "with open(\"wav_polqa.list\", \"r\", encoding=\"utf-8\") as f:\n",
    "    li = f.read().splitlines()\n",
    "\n",
    "polqa = [float(l.split(\",\")[1]) for l in li]"
   ],
   "execution_count": null,
   "outputs": []
  },
  {
   "cell_type": "code",
   "id": "8cd2b0dd145c12ae",
   "metadata": {},
   "source": [
    "import numpy as np\n",
    "step = 20\n",
    "dis_num = np.zeros([int(400 / step)])\n",
    "for p in polqa:\n",
    "    idx = (int(p * 100) - 100) // step\n",
    "    dis_num[idx] += 1\n",
    "print(dis_num)"
   ],
   "execution_count": null,
   "outputs": []
  },
  {
   "cell_type": "code",
   "id": "7f5d54615216cc0f",
   "metadata": {},
   "source": [
    "dis_prop = max(dis_num) / dis_num\n",
    "np.sqrt(dis_prop)"
   ],
   "execution_count": null,
   "outputs": []
  },
  {
   "metadata": {
    "ExecuteTime": {
     "end_time": "2024-05-18T13:09:50.745830Z",
     "start_time": "2024-05-18T13:09:49.979655Z"
    }
   },
   "cell_type": "code",
   "source": [
    "from trainer_utils import plot_metric\n",
    "import numpy as np\n",
    "path = r\"D:\\work\\speechEnhancement\\speechQuality\\QualityNetPOLQA\\results\\dpcrn_qsehasa20240518_134721\\data\\train_metric.npy\"\n",
    "data = np.load(path, allow_pickle=True).item()\n",
    "plot_metric({\"train_loss\": data['train_loss'], \"valid_loss\": data[\"valid_loss\"]},\n",
    "                                  title=\"train and valid loss\")"
   ],
   "id": "9b14681c99d80cce",
   "execution_count": 2,
   "outputs": []
  },
  {
   "metadata": {},
   "cell_type": "code",
   "source": [
    "import torch\n",
    "\n",
    "model = torch.load(r\"D:\\work\\speechEnhancement\\speechQuality\\QualityNetPOLQA\\models\\dpcrn_qsehasa20240518_134721\\best.pt\")\n",
    "model.eval()\n"
   ],
   "id": "8304a2aa829097b7",
   "execution_count": null,
   "outputs": []
  },
  {
   "metadata": {
    "ExecuteTime": {
     "end_time": "2024-05-19T06:39:26.978627Z",
     "start_time": "2024-05-19T06:37:38.793208Z"
    }
   },
   "cell_type": "code",
   "source": [
    "from trainer_utils import load_dataset_qn\n",
    "import torch\n",
    "\n",
    "a, b, c = load_dataset_qn(\"wav_polqa_mini.list\", spilt_rate=[0.8, 0.1, 0.1], fft_size=512, hop_size=256)\n",
    "print(a[0])\n",
    "# loader = "
   ],
   "id": "99b36a1373a6ba13",
   "outputs": [
    {
     "ename": "KeyboardInterrupt",
     "evalue": "",
     "output_type": "error",
     "traceback": [
      "\u001B[1;31m---------------------------------------------------------------------------\u001B[0m",
      "\u001B[1;31mKeyboardInterrupt\u001B[0m                         Traceback (most recent call last)",
      "Cell \u001B[1;32mIn[1], line 5\u001B[0m\n\u001B[0;32m      2\u001B[0m \u001B[38;5;28;01mimport\u001B[39;00m \u001B[38;5;21;01mtorch\u001B[39;00m\n\u001B[0;32m      4\u001B[0m a, b, c \u001B[38;5;241m=\u001B[39m load_dataset_qn(\u001B[38;5;124m\"\u001B[39m\u001B[38;5;124mwav_polqa_mini.list\u001B[39m\u001B[38;5;124m\"\u001B[39m, spilt_rate\u001B[38;5;241m=\u001B[39m[\u001B[38;5;241m0.8\u001B[39m, \u001B[38;5;241m0.1\u001B[39m, \u001B[38;5;241m0.1\u001B[39m], fft_size\u001B[38;5;241m=\u001B[39m\u001B[38;5;241m512\u001B[39m, hop_size\u001B[38;5;241m=\u001B[39m\u001B[38;5;241m256\u001B[39m)\n\u001B[1;32m----> 5\u001B[0m \u001B[38;5;28mprint\u001B[39m(\u001B[43ma\u001B[49m\u001B[43m[\u001B[49m\u001B[38;5;241;43m0\u001B[39;49m\u001B[43m]\u001B[49m)\n\u001B[0;32m      6\u001B[0m \u001B[38;5;66;03m# loader = \u001B[39;00m\n",
      "File \u001B[1;32mD:\\work\\speechEnhancement\\speechQuality\\QualityNetPOLQA\\utils.py:50\u001B[0m, in \u001B[0;36mDNSPOLQADataset.__getitem__\u001B[1;34m(self, index)\u001B[0m\n\u001B[0;32m     48\u001B[0m noisy_LP, _ \u001B[38;5;241m=\u001B[39m Sp_and_phase(wav)\n\u001B[0;32m     49\u001B[0m noisy_LP \u001B[38;5;241m=\u001B[39m noisy_LP\u001B[38;5;241m.\u001B[39mto(device\u001B[38;5;241m=\u001B[39mdevice)\n\u001B[1;32m---> 50\u001B[0m \u001B[38;5;28;01mreturn\u001B[39;00m noisy_LP, [polqa, polqa \u001B[38;5;241m*\u001B[39m torch\u001B[38;5;241m.\u001B[39mones([noisy_LP\u001B[38;5;241m.\u001B[39mshape[\u001B[38;5;241m0\u001B[39m]], dtype\u001B[38;5;241m=\u001B[39mtorch\u001B[38;5;241m.\u001B[39mfloat32, device\u001B[38;5;241m=\u001B[39mdevice)]\n",
      "File \u001B[1;32m_pydevd_bundle\\\\pydevd_cython_win32_39_64.pyx:1187\u001B[0m, in \u001B[0;36m_pydevd_bundle.pydevd_cython_win32_39_64.SafeCallWrapper.__call__\u001B[1;34m()\u001B[0m\n",
      "File \u001B[1;32m_pydevd_bundle\\\\pydevd_cython_win32_39_64.pyx:627\u001B[0m, in \u001B[0;36m_pydevd_bundle.pydevd_cython_win32_39_64.PyDBFrame.trace_dispatch\u001B[1;34m()\u001B[0m\n",
      "File \u001B[1;32m_pydevd_bundle\\\\pydevd_cython_win32_39_64.pyx:1103\u001B[0m, in \u001B[0;36m_pydevd_bundle.pydevd_cython_win32_39_64.PyDBFrame.trace_dispatch\u001B[1;34m()\u001B[0m\n",
      "File \u001B[1;32m_pydevd_bundle\\\\pydevd_cython_win32_39_64.pyx:1096\u001B[0m, in \u001B[0;36m_pydevd_bundle.pydevd_cython_win32_39_64.PyDBFrame.trace_dispatch\u001B[1;34m()\u001B[0m\n",
      "File \u001B[1;32m_pydevd_bundle\\\\pydevd_cython_win32_39_64.pyx:585\u001B[0m, in \u001B[0;36m_pydevd_bundle.pydevd_cython_win32_39_64.PyDBFrame.do_wait_suspend\u001B[1;34m()\u001B[0m\n",
      "File \u001B[1;32mD:\\PyCharm 2024.1\\plugins\\python\\helpers\\pydev\\pydevd.py:1185\u001B[0m, in \u001B[0;36mPyDB.do_wait_suspend\u001B[1;34m(self, thread, frame, event, arg, send_suspend_message, is_unhandled_exception)\u001B[0m\n\u001B[0;32m   1182\u001B[0m         from_this_thread\u001B[38;5;241m.\u001B[39mappend(frame_id)\n\u001B[0;32m   1184\u001B[0m \u001B[38;5;28;01mwith\u001B[39;00m \u001B[38;5;28mself\u001B[39m\u001B[38;5;241m.\u001B[39m_threads_suspended_single_notification\u001B[38;5;241m.\u001B[39mnotify_thread_suspended(thread_id, stop_reason):\n\u001B[1;32m-> 1185\u001B[0m     \u001B[38;5;28;43mself\u001B[39;49m\u001B[38;5;241;43m.\u001B[39;49m\u001B[43m_do_wait_suspend\u001B[49m\u001B[43m(\u001B[49m\u001B[43mthread\u001B[49m\u001B[43m,\u001B[49m\u001B[43m \u001B[49m\u001B[43mframe\u001B[49m\u001B[43m,\u001B[49m\u001B[43m \u001B[49m\u001B[43mevent\u001B[49m\u001B[43m,\u001B[49m\u001B[43m \u001B[49m\u001B[43marg\u001B[49m\u001B[43m,\u001B[49m\u001B[43m \u001B[49m\u001B[43msuspend_type\u001B[49m\u001B[43m,\u001B[49m\u001B[43m \u001B[49m\u001B[43mfrom_this_thread\u001B[49m\u001B[43m)\u001B[49m\n",
      "File \u001B[1;32mD:\\PyCharm 2024.1\\plugins\\python\\helpers\\pydev\\pydevd.py:1200\u001B[0m, in \u001B[0;36mPyDB._do_wait_suspend\u001B[1;34m(self, thread, frame, event, arg, suspend_type, from_this_thread)\u001B[0m\n\u001B[0;32m   1197\u001B[0m             \u001B[38;5;28mself\u001B[39m\u001B[38;5;241m.\u001B[39m_call_mpl_hook()\n\u001B[0;32m   1199\u001B[0m         \u001B[38;5;28mself\u001B[39m\u001B[38;5;241m.\u001B[39mprocess_internal_commands()\n\u001B[1;32m-> 1200\u001B[0m         \u001B[43mtime\u001B[49m\u001B[38;5;241;43m.\u001B[39;49m\u001B[43msleep\u001B[49m\u001B[43m(\u001B[49m\u001B[38;5;241;43m0.01\u001B[39;49m\u001B[43m)\u001B[49m\n\u001B[0;32m   1202\u001B[0m \u001B[38;5;28mself\u001B[39m\u001B[38;5;241m.\u001B[39mcancel_async_evaluation(get_current_thread_id(thread), \u001B[38;5;28mstr\u001B[39m(\u001B[38;5;28mid\u001B[39m(frame)))\n\u001B[0;32m   1204\u001B[0m \u001B[38;5;66;03m# process any stepping instructions\u001B[39;00m\n",
      "\u001B[1;31mKeyboardInterrupt\u001B[0m: "
     ]
    }
   ],
   "execution_count": 1
  },
  {
   "metadata": {
    "ExecuteTime": {
     "end_time": "2024-05-18T14:27:49.308307Z",
     "start_time": "2024-05-18T14:27:49.288311Z"
    }
   },
   "cell_type": "code",
   "source": "\n",
   "id": "9ab7ddb73c85e710",
   "execution_count": 6,
   "outputs": []
  },
  {
   "metadata": {},
   "cell_type": "code",
   "execution_count": null,
   "source": "",
   "id": "8ae5bdaa00eddbc3",
   "outputs": []
  }
 ],
 "metadata": {
  "kernelspec": {
   "display_name": "Python 3",
   "language": "python",
   "name": "python3"
  },
  "language_info": {
   "codemirror_mode": {
    "name": "ipython",
    "version": 3
   },
   "file_extension": ".py",
   "mimetype": "text/x-python",
   "name": "python",
   "nbconvert_exporter": "python",
   "pygments_lexer": "ipython3",
   "version": "3.10.6"
  }
 },
 "nbformat": 4,
 "nbformat_minor": 5
}
