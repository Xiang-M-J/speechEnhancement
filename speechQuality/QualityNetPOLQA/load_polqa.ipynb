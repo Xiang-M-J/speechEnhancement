{
 "cells": [
  {
   "cell_type": "code",
   "execution_count": 1,
   "id": "initial_id",
   "metadata": {
    "ExecuteTime": {
     "end_time": "2024-05-14T08:38:41.541680Z",
     "start_time": "2024-05-14T08:38:41.024282Z"
    },
    "collapsed": true
   },
   "source": [
    "import numpy as np\n",
    "import pandas as pd\n",
    "import os\n"
   ],
   "outputs": []
  },
  {
   "cell_type": "code",
   "execution_count": 2,
   "id": "8702ef02b80f00f8",
   "metadata": {
    "ExecuteTime": {
     "end_time": "2024-05-14T08:39:07.943024Z",
     "start_time": "2024-05-14T08:38:47.757171Z"
    }
   },
   "source": [
    "nearend_excel = r\"D:\\work\\speechEnhancement\\speechQuality\\PQLQA结果.xlsx\"\n",
    "mic_excel = r\"D:\\work\\speechEnhancement\\speechQuality\\PQLQA结果_mic.xlsx\"\n",
    "\n",
    "nearend = pd.read_excel(nearend_excel)\n",
    "mic = pd.read_excel(mic_excel)\n"
   ],
   "outputs": []
  },
  {
   "cell_type": "code",
   "execution_count": 3,
   "id": "627ec28b5d6b0f1",
   "metadata": {
    "ExecuteTime": {
     "end_time": "2024-05-14T08:39:07.959022Z",
     "start_time": "2024-05-14T08:39:07.945023Z"
    }
   },
   "source": [
    "nearend_Filename = nearend.iloc[:,0]\n",
    "nearend_moslqo = nearend.iloc[:,2]\n",
    "mic_Filename = mic.iloc[:,0]\n",
    "mic_moslqo = mic.iloc[:,2]"
   ],
   "outputs": []
  },
  {
   "cell_type": "code",
   "execution_count": 19,
   "id": "69b34defe353536c",
   "metadata": {
    "ExecuteTime": {
     "end_time": "2024-05-07T04:23:09.993494Z",
     "start_time": "2024-05-07T04:23:08.495494Z"
    }
   },
   "source": [
    "with open(\"wav_polqa.list\", \"w\", encoding=\"utf-8\") as f:\n",
    "    for i in range(len(nearend_Filename)):\n",
    "        if nearend_moslqo[i] == \"not found\":\n",
    "            continue\n",
    "        full_filename = os.path.join(r\"D:\\work\\speechEnhancement\\datasets\\dns_to_liang\", nearend_Filename[i])\n",
    "        polqa = float(nearend_moslqo[i])\n",
    "        if polqa > 5:\n",
    "            polqa = polqa / 10000\n",
    "        f.write(full_filename + \",\" + format(polqa, \".2f\") + \"\\n\")\n",
    "with open(\"wav_polqa.list\", \"a\", encoding=\"utf-8\") as f:\n",
    "    for i in range(len(mic_Filename)):\n",
    "        if mic_moslqo[i] == \"not found\":\n",
    "            continue\n",
    "        full_filename = os.path.join(r\"D:\\work\\speechEnhancement\\datasets\\dns_to_liang\", mic_Filename[i])\n",
    "        polqa = float(mic_moslqo[i])\n",
    "        if polqa > 5:\n",
    "            polqa = polqa / 10000\n",
    "        f.write(full_filename + \",\" + format(polqa, \".2f\") + \"\\n\")"
   ],
   "outputs": []
  },
  {
   "cell_type": "code",
   "execution_count": 6,
   "id": "8221c69974f250cf",
   "metadata": {},
   "source": [
    "with open(\"wav_se.list\", \"w\", encoding=\"utf-8\") as f:\n",
    "    for it in nearend_Filename:\n",
    "        noise_wav = os.path.join(r\"D:\\work\\speechEnhancement\\datasets\\dns_to_liang\", it)\n",
    "        clean_wav = os.path.join(r\"D:\\work\\speechEnhancement\\datasets\\dns_to_liang\", it.split(\"_\")[0]+\"_target.wav\")\n",
    "        f.write(noise_wav + \",\" + clean_wav + \"\\n\")\n",
    "    \n",
    "    for it in mic_Filename:\n",
    "        noise_wav = os.path.join(r\"D:\\work\\speechEnhancement\\datasets\\dns_to_liang\", it)\n",
    "        clean_wav = os.path.join(r\"D:\\work\\speechEnhancement\\datasets\\dns_to_liang\", it.split(\"_\")[0]+\"_target.wav\")\n",
    "        f.write(noise_wav + \",\" + clean_wav + \"\\n\")\n"
   ],
   "outputs": []
  },
  {
   "cell_type": "code",
   "execution_count": 12,
   "id": "eb1d10a1ea85885f",
   "metadata": {
    "ExecuteTime": {
     "end_time": "2024-05-14T08:56:11.743413Z",
     "start_time": "2024-05-14T08:56:10.612413Z"
    }
   },
   "source": [
    "total_wav = []\n",
    "total_mos = []\n",
    "# for it in nearend_Filename:\n",
    "#     total_wav.append(it)\n",
    "# for it in mic_Filename:\n",
    "#     total_wav.append(it)\n",
    "\n",
    "with open(\"wav_polqa.list\", \"r\", encoding=\"utf-8\") as f:\n",
    "    files = f.read().splitlines()\n",
    "\n",
    "for file in files:\n",
    "    a, b = file.split(\",\")\n",
    "    total_wav.append(a)\n",
    "    total_mos.append(float(b))\n",
    "\n",
    "# import random\n",
    "# random.seed(34)\n",
    "# random.shuffle(total_wav)\n",
    "\n",
    "# length1 = len(total_wav) // 2\n",
    "# train_se_wavs = total_wav[:length1]\n",
    "# train_qn_wavs = total_wav[length1:]\n",
    "# with open(\"wav_train_se.list\", \"w\", encoding=\"utf-8\") as f:\n",
    "#     for wav in train_se_wavs:\n",
    "#         noise_wav = os.path.join(r\"D:\\work\\speechEnhancement\\datasets\\dns_to_liang\", wav)\n",
    "#         clean_wav = os.path.join(r\"D:\\work\\speechEnhancement\\datasets\\dns_to_liang\", wav.split(\"_\")[0]+\"_target.wav\")\n",
    "#         f.write(noise_wav + \",\" + clean_wav + \"\\n\")\n",
    "# with open(\"wav_train_qn.list\", \"w\", encoding=\"utf-8\") as f:\n",
    "#     for wav in train_qn_wavs:\n",
    "#         noise_wav = os.path.join(r\"D:\\work\\speechEnhancement\\datasets\\dns_to_liang\", wav)\n",
    "#         clean_wav = os.path.join(r\"D:\\work\\speechEnhancement\\datasets\\dns_to_liang\", wav.split(\"_\")[0]+\"_target.wav\")\n",
    "#         f.write(noise_wav + \",\" + clean_wav + \"\\n\")"
   ],
   "outputs": []
  },
  {
   "cell_type": "code",
   "execution_count": 13,
   "id": "b0d278cba18cb697",
   "metadata": {
    "ExecuteTime": {
     "end_time": "2024-05-14T08:49:01.149612Z",
     "start_time": "2024-05-14T08:49:01.132613Z"
    }
   },
   "source": [
    "length = 90000\n",
    "import random\n",
    "\n",
    "total_wav = np.array(total_wav)\n",
    "total_mos = np.array(total_mos)\n",
    "index = np.random.permutation(len(total_wav))\n",
    "total_wav = total_wav[index]\n",
    "total_mos = total_mos[index]\n",
    "# random.shuffle(total_wav)\n",
    "# random.shuffle(total_mos)\n",
    "\n",
    "qn_wav = total_wav[:length]\n",
    "qn_mos = total_mos[:length]\n",
    "se_wav = total_wav[length:]\n",
    "\n",
    "with open(\"wav_train_se.list\", \"w\", encoding=\"utf-8\") as f:\n",
    "    for wav in se_wav:\n",
    "        noise_wav = os.path.join(r\"D:\\work\\speechEnhancement\\datasets\\dns_to_liang\", wav)\n",
    "        clean_wav = os.path.join(r\"D:\\work\\speechEnhancement\\datasets\\dns_to_liang\", wav.split(\"\\\\\")[-1].split(\"_\")[0]+\"_target.wav\")\n",
    "        f.write(noise_wav + \",\" + clean_wav + \"\\n\")\n",
    "with open(\"wav_train_qn.list\", \"w\", encoding=\"utf-8\") as f:\n",
    "    for i in range(len(qn_wav)):\n",
    "        wav = qn_wav[i]\n",
    "        mos = qn_mos[i]\n",
    "        noise_wav = os.path.join(r\"D:\\work\\speechEnhancement\\datasets\\dns_to_liang\", wav)\n",
    "        f.write(noise_wav + \",\" + format(mos, \".2f\") + \"\\n\")\n",
    "        # f.write(noise_wav + \",\" + clean_wav + \"\\n\")"
   ],
   "outputs": []
  },
  {
   "cell_type": "code",
   "execution_count": null,
   "id": "6518aa7a74f5d0d0",
   "metadata": {},
   "source": [],
   "outputs": []
  }
 ],
 "metadata": {
  "kernelspec": {
   "display_name": "Python 3",
   "language": "python",
   "name": "python3"
  },
  "language_info": {
   "codemirror_mode": {
    "name": "ipython",
    "version": 3
   },
   "file_extension": ".py",
   "mimetype": "text/x-python",
   "name": "python",
   "nbconvert_exporter": "python",
   "pygments_lexer": "ipython3",
   "version": "3.9.13"
  }
 },
 "nbformat": 4,
 "nbformat_minor": 5
}
