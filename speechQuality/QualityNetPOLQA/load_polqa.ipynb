{
 "cells": [
  {
   "cell_type": "code",
   "id": "initial_id",
   "metadata": {
    "collapsed": true,
    "ExecuteTime": {
     "end_time": "2024-05-07T03:17:36.643876Z",
     "start_time": "2024-05-07T03:17:35.156877Z"
    }
   },
   "source": [
    "import pandas as pd\n",
    "import os\n"
   ],
   "outputs": [],
   "execution_count": 1
  },
  {
   "metadata": {
    "ExecuteTime": {
     "end_time": "2024-05-07T03:28:41.465453Z",
     "start_time": "2024-05-07T03:28:28.201454Z"
    }
   },
   "cell_type": "code",
   "source": [
    "nearend_excel = r\"D:\\work\\speechEnhancement\\speechQuality\\PQLQA结果.xlsx\"\n",
    "mic_excel = r\"D:\\work\\speechEnhancement\\speechQuality\\PQLQA结果_mic.xlsx\"\n",
    "\n",
    "nearend = pd.read_excel(nearend_excel)\n",
    "mic = pd.read_excel(mic_excel)\n"
   ],
   "id": "8702ef02b80f00f8",
   "outputs": [],
   "execution_count": 6
  },
  {
   "metadata": {
    "ExecuteTime": {
     "end_time": "2024-05-07T03:28:43.962453Z",
     "start_time": "2024-05-07T03:28:43.942458Z"
    }
   },
   "cell_type": "code",
   "source": [
    "nearend_Filename = nearend.iloc[:,0]\n",
    "nearend_moslqo = nearend.iloc[:,2]\n",
    "mic_Filename = mic.iloc[:,0]\n",
    "mic_moslqo = mic.iloc[:,2]"
   ],
   "id": "627ec28b5d6b0f1",
   "outputs": [],
   "execution_count": 7
  },
  {
   "metadata": {
    "ExecuteTime": {
     "end_time": "2024-05-07T04:23:09.993494Z",
     "start_time": "2024-05-07T04:23:08.495494Z"
    }
   },
   "cell_type": "code",
   "source": [
    "with open(\"wav_polqa.list\", \"w\", encoding=\"utf-8\") as f:\n",
    "    for i in range(len(nearend_Filename)):\n",
    "        if nearend_moslqo[i] == \"not found\":\n",
    "            continue\n",
    "        full_filename = os.path.join(r\"D:\\work\\speechEnhancement\\datasets\\dns_to_liang\", nearend_Filename[i])\n",
    "        polqa = float(nearend_moslqo[i])\n",
    "        if polqa > 5:\n",
    "            polqa = polqa / 10000\n",
    "        f.write(full_filename + \",\" + format(polqa, \".2f\") + \"\\n\")\n",
    "with open(\"wav_polqa.list\", \"a\", encoding=\"utf-8\") as f:\n",
    "    for i in range(len(mic_Filename)):\n",
    "        if mic_moslqo[i] == \"not found\":\n",
    "            continue\n",
    "        full_filename = os.path.join(r\"D:\\work\\speechEnhancement\\datasets\\dns_to_liang\", mic_Filename[i])\n",
    "        polqa = float(mic_moslqo[i])\n",
    "        if polqa > 5:\n",
    "            polqa = polqa / 10000\n",
    "        f.write(full_filename + \",\" + format(polqa, \".2f\") + \"\\n\")"
   ],
   "id": "69b34defe353536c",
   "outputs": [],
   "execution_count": 19
  },
  {
   "metadata": {},
   "cell_type": "code",
   "outputs": [],
   "execution_count": null,
   "source": "",
   "id": "8221c69974f250cf"
  }
 ],
 "metadata": {
  "kernelspec": {
   "display_name": "Python 3",
   "language": "python",
   "name": "python3"
  },
  "language_info": {
   "codemirror_mode": {
    "name": "ipython",
    "version": 2
   },
   "file_extension": ".py",
   "mimetype": "text/x-python",
   "name": "python",
   "nbconvert_exporter": "python",
   "pygments_lexer": "ipython2",
   "version": "2.7.6"
  }
 },
 "nbformat": 4,
 "nbformat_minor": 5
}
